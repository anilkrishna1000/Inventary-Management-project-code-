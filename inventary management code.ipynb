{
 "cells": [
  {
   "cell_type": "code",
   "execution_count": 112,
   "metadata": {},
   "outputs": [],
   "source": [
    "import pandas as pd\n",
    "import numpy as  np\n",
    "import matplotlib.pyplot as plt\n",
    "import seaborn as sns\n"
   ]
  },
  {
   "cell_type": "code",
   "execution_count": 113,
   "metadata": {},
   "outputs": [],
   "source": [
    "import sweetviz"
   ]
  },
  {
   "cell_type": "code",
   "execution_count": 114,
   "metadata": {},
   "outputs": [],
   "source": [
    "data1=pd.read_csv(\"prorevenue (1).csv\")"
   ]
  },
  {
   "cell_type": "code",
   "execution_count": 115,
   "metadata": {},
   "outputs": [],
   "source": [
    "data2=pd.read_csv(\"productdetails.csv\")"
   ]
  },
  {
   "cell_type": "code",
   "execution_count": 116,
   "metadata": {},
   "outputs": [
    {
     "data": {
      "text/html": [
       "<div>\n",
       "<style scoped>\n",
       "    .dataframe tbody tr th:only-of-type {\n",
       "        vertical-align: middle;\n",
       "    }\n",
       "\n",
       "    .dataframe tbody tr th {\n",
       "        vertical-align: top;\n",
       "    }\n",
       "\n",
       "    .dataframe thead th {\n",
       "        text-align: right;\n",
       "    }\n",
       "</style>\n",
       "<table border=\"1\" class=\"dataframe\">\n",
       "  <thead>\n",
       "    <tr style=\"text-align: right;\">\n",
       "      <th></th>\n",
       "      <th>product type</th>\n",
       "      <th>Revenue</th>\n",
       "      <th>No of purchases</th>\n",
       "      <th>store status</th>\n",
       "      <th>Promotion applied</th>\n",
       "      <th>Generic Holiday</th>\n",
       "      <th>Education Holiday</th>\n",
       "      <th>DayOfWeek</th>\n",
       "    </tr>\n",
       "  </thead>\n",
       "  <tbody>\n",
       "    <tr>\n",
       "      <th>0</th>\n",
       "      <td>1</td>\n",
       "      <td>14190</td>\n",
       "      <td>890</td>\n",
       "      <td>open</td>\n",
       "      <td>1</td>\n",
       "      <td>0</td>\n",
       "      <td>1</td>\n",
       "      <td>5</td>\n",
       "    </tr>\n",
       "    <tr>\n",
       "      <th>1</th>\n",
       "      <td>2</td>\n",
       "      <td>6064</td>\n",
       "      <td>789</td>\n",
       "      <td>open</td>\n",
       "      <td>1</td>\n",
       "      <td>0</td>\n",
       "      <td>1</td>\n",
       "      <td>5</td>\n",
       "    </tr>\n",
       "    <tr>\n",
       "      <th>2</th>\n",
       "      <td>3</td>\n",
       "      <td>14190</td>\n",
       "      <td>821</td>\n",
       "      <td>open</td>\n",
       "      <td>1</td>\n",
       "      <td>0</td>\n",
       "      <td>1</td>\n",
       "      <td>5</td>\n",
       "    </tr>\n",
       "    <tr>\n",
       "      <th>3</th>\n",
       "      <td>4</td>\n",
       "      <td>13995</td>\n",
       "      <td>456</td>\n",
       "      <td>open</td>\n",
       "      <td>1</td>\n",
       "      <td>0</td>\n",
       "      <td>1</td>\n",
       "      <td>5</td>\n",
       "    </tr>\n",
       "    <tr>\n",
       "      <th>4</th>\n",
       "      <td>5</td>\n",
       "      <td>4822</td>\n",
       "      <td>559</td>\n",
       "      <td>open</td>\n",
       "      <td>1</td>\n",
       "      <td>0</td>\n",
       "      <td>1</td>\n",
       "      <td>5</td>\n",
       "    </tr>\n",
       "  </tbody>\n",
       "</table>\n",
       "</div>"
      ],
      "text/plain": [
       "   product type  Revenue  No of purchases store status  Promotion applied  \\\n",
       "0             1    14190              890         open                  1   \n",
       "1             2     6064              789         open                  1   \n",
       "2             3    14190              821         open                  1   \n",
       "3             4    13995              456         open                  1   \n",
       "4             5     4822              559         open                  1   \n",
       "\n",
       "   Generic Holiday  Education Holiday  DayOfWeek  \n",
       "0                0                  1          5  \n",
       "1                0                  1          5  \n",
       "2                0                  1          5  \n",
       "3                0                  1          5  \n",
       "4                0                  1          5  "
      ]
     },
     "execution_count": 116,
     "metadata": {},
     "output_type": "execute_result"
    }
   ],
   "source": [
    "data1.head()"
   ]
  },
  {
   "cell_type": "code",
   "execution_count": 117,
   "metadata": {},
   "outputs": [
    {
     "data": {
      "text/plain": [
       "(1017209, 8)"
      ]
     },
     "execution_count": 117,
     "metadata": {},
     "output_type": "execute_result"
    }
   ],
   "source": [
    "data1.shape"
   ]
  },
  {
   "cell_type": "code",
   "execution_count": 118,
   "metadata": {},
   "outputs": [
    {
     "data": {
      "text/html": [
       "<div>\n",
       "<style scoped>\n",
       "    .dataframe tbody tr th:only-of-type {\n",
       "        vertical-align: middle;\n",
       "    }\n",
       "\n",
       "    .dataframe tbody tr th {\n",
       "        vertical-align: top;\n",
       "    }\n",
       "\n",
       "    .dataframe thead th {\n",
       "        text-align: right;\n",
       "    }\n",
       "</style>\n",
       "<table border=\"1\" class=\"dataframe\">\n",
       "  <thead>\n",
       "    <tr style=\"text-align: right;\">\n",
       "      <th></th>\n",
       "      <th>Unnamed: 0</th>\n",
       "      <th>product type</th>\n",
       "      <th>cost per unit</th>\n",
       "      <th>Time for delivery</th>\n",
       "    </tr>\n",
       "  </thead>\n",
       "  <tbody>\n",
       "    <tr>\n",
       "      <th>0</th>\n",
       "      <td>0</td>\n",
       "      <td>1</td>\n",
       "      <td>457</td>\n",
       "      <td>11</td>\n",
       "    </tr>\n",
       "    <tr>\n",
       "      <th>1</th>\n",
       "      <td>1</td>\n",
       "      <td>2</td>\n",
       "      <td>1545</td>\n",
       "      <td>13</td>\n",
       "    </tr>\n",
       "    <tr>\n",
       "      <th>2</th>\n",
       "      <td>2</td>\n",
       "      <td>3</td>\n",
       "      <td>1910</td>\n",
       "      <td>14</td>\n",
       "    </tr>\n",
       "    <tr>\n",
       "      <th>3</th>\n",
       "      <td>3</td>\n",
       "      <td>4</td>\n",
       "      <td>131</td>\n",
       "      <td>9</td>\n",
       "    </tr>\n",
       "    <tr>\n",
       "      <th>4</th>\n",
       "      <td>4</td>\n",
       "      <td>5</td>\n",
       "      <td>868</td>\n",
       "      <td>8</td>\n",
       "    </tr>\n",
       "  </tbody>\n",
       "</table>\n",
       "</div>"
      ],
      "text/plain": [
       "   Unnamed: 0  product type  cost per unit  Time for delivery\n",
       "0           0             1            457                 11\n",
       "1           1             2           1545                 13\n",
       "2           2             3           1910                 14\n",
       "3           3             4            131                  9\n",
       "4           4             5            868                  8"
      ]
     },
     "execution_count": 118,
     "metadata": {},
     "output_type": "execute_result"
    }
   ],
   "source": [
    "data2.head()"
   ]
  },
  {
   "cell_type": "code",
   "execution_count": 119,
   "metadata": {},
   "outputs": [
    {
     "data": {
      "text/plain": [
       "(1115, 4)"
      ]
     },
     "execution_count": 119,
     "metadata": {},
     "output_type": "execute_result"
    }
   ],
   "source": [
    "data2.shape"
   ]
  },
  {
   "cell_type": "code",
   "execution_count": 120,
   "metadata": {},
   "outputs": [
    {
     "data": {
      "text/html": [
       "<div>\n",
       "<style scoped>\n",
       "    .dataframe tbody tr th:only-of-type {\n",
       "        vertical-align: middle;\n",
       "    }\n",
       "\n",
       "    .dataframe tbody tr th {\n",
       "        vertical-align: top;\n",
       "    }\n",
       "\n",
       "    .dataframe thead th {\n",
       "        text-align: right;\n",
       "    }\n",
       "</style>\n",
       "<table border=\"1\" class=\"dataframe\">\n",
       "  <thead>\n",
       "    <tr style=\"text-align: right;\">\n",
       "      <th></th>\n",
       "      <th>product type</th>\n",
       "      <th>Revenue</th>\n",
       "      <th>No of purchases</th>\n",
       "      <th>store status</th>\n",
       "      <th>Promotion applied</th>\n",
       "      <th>Generic Holiday</th>\n",
       "      <th>Education Holiday</th>\n",
       "      <th>DayOfWeek</th>\n",
       "      <th>cost per unit</th>\n",
       "      <th>Time for delivery</th>\n",
       "    </tr>\n",
       "  </thead>\n",
       "  <tbody>\n",
       "    <tr>\n",
       "      <th>0</th>\n",
       "      <td>1</td>\n",
       "      <td>14190</td>\n",
       "      <td>890</td>\n",
       "      <td>open</td>\n",
       "      <td>1</td>\n",
       "      <td>0</td>\n",
       "      <td>1</td>\n",
       "      <td>5</td>\n",
       "      <td>457</td>\n",
       "      <td>11</td>\n",
       "    </tr>\n",
       "    <tr>\n",
       "      <th>1</th>\n",
       "      <td>1</td>\n",
       "      <td>5020</td>\n",
       "      <td>546</td>\n",
       "      <td>open</td>\n",
       "      <td>1</td>\n",
       "      <td>0</td>\n",
       "      <td>1</td>\n",
       "      <td>4</td>\n",
       "      <td>457</td>\n",
       "      <td>11</td>\n",
       "    </tr>\n",
       "    <tr>\n",
       "      <th>2</th>\n",
       "      <td>1</td>\n",
       "      <td>4782</td>\n",
       "      <td>523</td>\n",
       "      <td>open</td>\n",
       "      <td>1</td>\n",
       "      <td>0</td>\n",
       "      <td>1</td>\n",
       "      <td>3</td>\n",
       "      <td>457</td>\n",
       "      <td>11</td>\n",
       "    </tr>\n",
       "    <tr>\n",
       "      <th>3</th>\n",
       "      <td>1</td>\n",
       "      <td>5011</td>\n",
       "      <td>560</td>\n",
       "      <td>open</td>\n",
       "      <td>1</td>\n",
       "      <td>0</td>\n",
       "      <td>1</td>\n",
       "      <td>2</td>\n",
       "      <td>457</td>\n",
       "      <td>11</td>\n",
       "    </tr>\n",
       "    <tr>\n",
       "      <th>4</th>\n",
       "      <td>1</td>\n",
       "      <td>6102</td>\n",
       "      <td>612</td>\n",
       "      <td>open</td>\n",
       "      <td>1</td>\n",
       "      <td>0</td>\n",
       "      <td>1</td>\n",
       "      <td>1</td>\n",
       "      <td>457</td>\n",
       "      <td>11</td>\n",
       "    </tr>\n",
       "    <tr>\n",
       "      <th>5</th>\n",
       "      <td>1</td>\n",
       "      <td>0</td>\n",
       "      <td>0</td>\n",
       "      <td>close</td>\n",
       "      <td>0</td>\n",
       "      <td>0</td>\n",
       "      <td>0</td>\n",
       "      <td>7</td>\n",
       "      <td>457</td>\n",
       "      <td>11</td>\n",
       "    </tr>\n",
       "    <tr>\n",
       "      <th>6</th>\n",
       "      <td>1</td>\n",
       "      <td>4364</td>\n",
       "      <td>500</td>\n",
       "      <td>open</td>\n",
       "      <td>0</td>\n",
       "      <td>0</td>\n",
       "      <td>0</td>\n",
       "      <td>6</td>\n",
       "      <td>457</td>\n",
       "      <td>11</td>\n",
       "    </tr>\n",
       "    <tr>\n",
       "      <th>7</th>\n",
       "      <td>1</td>\n",
       "      <td>3706</td>\n",
       "      <td>459</td>\n",
       "      <td>open</td>\n",
       "      <td>0</td>\n",
       "      <td>0</td>\n",
       "      <td>0</td>\n",
       "      <td>5</td>\n",
       "      <td>457</td>\n",
       "      <td>11</td>\n",
       "    </tr>\n",
       "    <tr>\n",
       "      <th>8</th>\n",
       "      <td>1</td>\n",
       "      <td>3769</td>\n",
       "      <td>503</td>\n",
       "      <td>open</td>\n",
       "      <td>0</td>\n",
       "      <td>0</td>\n",
       "      <td>0</td>\n",
       "      <td>4</td>\n",
       "      <td>457</td>\n",
       "      <td>11</td>\n",
       "    </tr>\n",
       "    <tr>\n",
       "      <th>9</th>\n",
       "      <td>1</td>\n",
       "      <td>3464</td>\n",
       "      <td>463</td>\n",
       "      <td>open</td>\n",
       "      <td>0</td>\n",
       "      <td>0</td>\n",
       "      <td>0</td>\n",
       "      <td>3</td>\n",
       "      <td>457</td>\n",
       "      <td>11</td>\n",
       "    </tr>\n",
       "    <tr>\n",
       "      <th>10</th>\n",
       "      <td>1</td>\n",
       "      <td>3558</td>\n",
       "      <td>469</td>\n",
       "      <td>open</td>\n",
       "      <td>0</td>\n",
       "      <td>0</td>\n",
       "      <td>0</td>\n",
       "      <td>2</td>\n",
       "      <td>457</td>\n",
       "      <td>11</td>\n",
       "    </tr>\n",
       "    <tr>\n",
       "      <th>11</th>\n",
       "      <td>1</td>\n",
       "      <td>4395</td>\n",
       "      <td>526</td>\n",
       "      <td>open</td>\n",
       "      <td>0</td>\n",
       "      <td>0</td>\n",
       "      <td>0</td>\n",
       "      <td>1</td>\n",
       "      <td>457</td>\n",
       "      <td>11</td>\n",
       "    </tr>\n",
       "    <tr>\n",
       "      <th>12</th>\n",
       "      <td>1</td>\n",
       "      <td>0</td>\n",
       "      <td>0</td>\n",
       "      <td>close</td>\n",
       "      <td>0</td>\n",
       "      <td>0</td>\n",
       "      <td>0</td>\n",
       "      <td>7</td>\n",
       "      <td>457</td>\n",
       "      <td>11</td>\n",
       "    </tr>\n",
       "    <tr>\n",
       "      <th>13</th>\n",
       "      <td>1</td>\n",
       "      <td>4406</td>\n",
       "      <td>512</td>\n",
       "      <td>open</td>\n",
       "      <td>0</td>\n",
       "      <td>0</td>\n",
       "      <td>0</td>\n",
       "      <td>6</td>\n",
       "      <td>457</td>\n",
       "      <td>11</td>\n",
       "    </tr>\n",
       "    <tr>\n",
       "      <th>14</th>\n",
       "      <td>1</td>\n",
       "      <td>4852</td>\n",
       "      <td>519</td>\n",
       "      <td>open</td>\n",
       "      <td>1</td>\n",
       "      <td>0</td>\n",
       "      <td>0</td>\n",
       "      <td>5</td>\n",
       "      <td>457</td>\n",
       "      <td>11</td>\n",
       "    </tr>\n",
       "    <tr>\n",
       "      <th>15</th>\n",
       "      <td>1</td>\n",
       "      <td>4427</td>\n",
       "      <td>517</td>\n",
       "      <td>open</td>\n",
       "      <td>1</td>\n",
       "      <td>0</td>\n",
       "      <td>0</td>\n",
       "      <td>4</td>\n",
       "      <td>457</td>\n",
       "      <td>11</td>\n",
       "    </tr>\n",
       "    <tr>\n",
       "      <th>16</th>\n",
       "      <td>1</td>\n",
       "      <td>4767</td>\n",
       "      <td>550</td>\n",
       "      <td>open</td>\n",
       "      <td>1</td>\n",
       "      <td>0</td>\n",
       "      <td>0</td>\n",
       "      <td>3</td>\n",
       "      <td>457</td>\n",
       "      <td>11</td>\n",
       "    </tr>\n",
       "    <tr>\n",
       "      <th>17</th>\n",
       "      <td>1</td>\n",
       "      <td>5042</td>\n",
       "      <td>544</td>\n",
       "      <td>open</td>\n",
       "      <td>1</td>\n",
       "      <td>0</td>\n",
       "      <td>0</td>\n",
       "      <td>2</td>\n",
       "      <td>457</td>\n",
       "      <td>11</td>\n",
       "    </tr>\n",
       "    <tr>\n",
       "      <th>18</th>\n",
       "      <td>1</td>\n",
       "      <td>5054</td>\n",
       "      <td>553</td>\n",
       "      <td>open</td>\n",
       "      <td>1</td>\n",
       "      <td>0</td>\n",
       "      <td>0</td>\n",
       "      <td>1</td>\n",
       "      <td>457</td>\n",
       "      <td>11</td>\n",
       "    </tr>\n",
       "    <tr>\n",
       "      <th>19</th>\n",
       "      <td>1</td>\n",
       "      <td>0</td>\n",
       "      <td>0</td>\n",
       "      <td>close</td>\n",
       "      <td>0</td>\n",
       "      <td>0</td>\n",
       "      <td>0</td>\n",
       "      <td>7</td>\n",
       "      <td>457</td>\n",
       "      <td>11</td>\n",
       "    </tr>\n",
       "  </tbody>\n",
       "</table>\n",
       "</div>"
      ],
      "text/plain": [
       "    product type  Revenue  No of purchases store status  Promotion applied  \\\n",
       "0              1    14190              890         open                  1   \n",
       "1              1     5020              546         open                  1   \n",
       "2              1     4782              523         open                  1   \n",
       "3              1     5011              560         open                  1   \n",
       "4              1     6102              612         open                  1   \n",
       "5              1        0                0        close                  0   \n",
       "6              1     4364              500         open                  0   \n",
       "7              1     3706              459         open                  0   \n",
       "8              1     3769              503         open                  0   \n",
       "9              1     3464              463         open                  0   \n",
       "10             1     3558              469         open                  0   \n",
       "11             1     4395              526         open                  0   \n",
       "12             1        0                0        close                  0   \n",
       "13             1     4406              512         open                  0   \n",
       "14             1     4852              519         open                  1   \n",
       "15             1     4427              517         open                  1   \n",
       "16             1     4767              550         open                  1   \n",
       "17             1     5042              544         open                  1   \n",
       "18             1     5054              553         open                  1   \n",
       "19             1        0                0        close                  0   \n",
       "\n",
       "    Generic Holiday  Education Holiday  DayOfWeek  cost per unit  \\\n",
       "0                 0                  1          5            457   \n",
       "1                 0                  1          4            457   \n",
       "2                 0                  1          3            457   \n",
       "3                 0                  1          2            457   \n",
       "4                 0                  1          1            457   \n",
       "5                 0                  0          7            457   \n",
       "6                 0                  0          6            457   \n",
       "7                 0                  0          5            457   \n",
       "8                 0                  0          4            457   \n",
       "9                 0                  0          3            457   \n",
       "10                0                  0          2            457   \n",
       "11                0                  0          1            457   \n",
       "12                0                  0          7            457   \n",
       "13                0                  0          6            457   \n",
       "14                0                  0          5            457   \n",
       "15                0                  0          4            457   \n",
       "16                0                  0          3            457   \n",
       "17                0                  0          2            457   \n",
       "18                0                  0          1            457   \n",
       "19                0                  0          7            457   \n",
       "\n",
       "    Time for delivery  \n",
       "0                  11  \n",
       "1                  11  \n",
       "2                  11  \n",
       "3                  11  \n",
       "4                  11  \n",
       "5                  11  \n",
       "6                  11  \n",
       "7                  11  \n",
       "8                  11  \n",
       "9                  11  \n",
       "10                 11  \n",
       "11                 11  \n",
       "12                 11  \n",
       "13                 11  \n",
       "14                 11  \n",
       "15                 11  \n",
       "16                 11  \n",
       "17                 11  \n",
       "18                 11  \n",
       "19                 11  "
      ]
     },
     "execution_count": 120,
     "metadata": {},
     "output_type": "execute_result"
    }
   ],
   "source": [
    "merged = pd.merge(data1, data2, how='outer',\n",
    "                  left_on='product type', right_on='product type')\n",
    "merged = merged.drop('Unnamed: 0', 1) # drop duplicate info\n",
    "merged.head(20)\n"
   ]
  },
  {
   "cell_type": "code",
   "execution_count": 121,
   "metadata": {},
   "outputs": [
    {
     "data": {
      "text/html": [
       "<div>\n",
       "<style scoped>\n",
       "    .dataframe tbody tr th:only-of-type {\n",
       "        vertical-align: middle;\n",
       "    }\n",
       "\n",
       "    .dataframe tbody tr th {\n",
       "        vertical-align: top;\n",
       "    }\n",
       "\n",
       "    .dataframe thead th {\n",
       "        text-align: right;\n",
       "    }\n",
       "</style>\n",
       "<table border=\"1\" class=\"dataframe\">\n",
       "  <thead>\n",
       "    <tr style=\"text-align: right;\">\n",
       "      <th></th>\n",
       "      <th>product type</th>\n",
       "      <th>Revenue</th>\n",
       "      <th>No of purchases</th>\n",
       "      <th>store status</th>\n",
       "      <th>Promotion applied</th>\n",
       "      <th>Generic Holiday</th>\n",
       "      <th>Education Holiday</th>\n",
       "      <th>DayOfWeek</th>\n",
       "      <th>cost per unit</th>\n",
       "      <th>Time for delivery</th>\n",
       "    </tr>\n",
       "  </thead>\n",
       "  <tbody>\n",
       "    <tr>\n",
       "      <th>1017189</th>\n",
       "      <td>1115</td>\n",
       "      <td>0</td>\n",
       "      <td>0</td>\n",
       "      <td>close</td>\n",
       "      <td>0</td>\n",
       "      <td>0</td>\n",
       "      <td>0</td>\n",
       "      <td>7</td>\n",
       "      <td>454</td>\n",
       "      <td>14</td>\n",
       "    </tr>\n",
       "    <tr>\n",
       "      <th>1017190</th>\n",
       "      <td>1115</td>\n",
       "      <td>5207</td>\n",
       "      <td>369</td>\n",
       "      <td>open</td>\n",
       "      <td>0</td>\n",
       "      <td>0</td>\n",
       "      <td>0</td>\n",
       "      <td>6</td>\n",
       "      <td>454</td>\n",
       "      <td>14</td>\n",
       "    </tr>\n",
       "    <tr>\n",
       "      <th>1017191</th>\n",
       "      <td>1115</td>\n",
       "      <td>4287</td>\n",
       "      <td>296</td>\n",
       "      <td>open</td>\n",
       "      <td>0</td>\n",
       "      <td>0</td>\n",
       "      <td>0</td>\n",
       "      <td>5</td>\n",
       "      <td>454</td>\n",
       "      <td>14</td>\n",
       "    </tr>\n",
       "    <tr>\n",
       "      <th>1017192</th>\n",
       "      <td>1115</td>\n",
       "      <td>3039</td>\n",
       "      <td>244</td>\n",
       "      <td>open</td>\n",
       "      <td>0</td>\n",
       "      <td>0</td>\n",
       "      <td>0</td>\n",
       "      <td>4</td>\n",
       "      <td>454</td>\n",
       "      <td>14</td>\n",
       "    </tr>\n",
       "    <tr>\n",
       "      <th>1017193</th>\n",
       "      <td>1115</td>\n",
       "      <td>3064</td>\n",
       "      <td>237</td>\n",
       "      <td>open</td>\n",
       "      <td>0</td>\n",
       "      <td>0</td>\n",
       "      <td>0</td>\n",
       "      <td>3</td>\n",
       "      <td>454</td>\n",
       "      <td>14</td>\n",
       "    </tr>\n",
       "    <tr>\n",
       "      <th>1017194</th>\n",
       "      <td>1115</td>\n",
       "      <td>3528</td>\n",
       "      <td>277</td>\n",
       "      <td>open</td>\n",
       "      <td>0</td>\n",
       "      <td>0</td>\n",
       "      <td>0</td>\n",
       "      <td>2</td>\n",
       "      <td>454</td>\n",
       "      <td>14</td>\n",
       "    </tr>\n",
       "    <tr>\n",
       "      <th>1017195</th>\n",
       "      <td>1115</td>\n",
       "      <td>3158</td>\n",
       "      <td>252</td>\n",
       "      <td>open</td>\n",
       "      <td>0</td>\n",
       "      <td>0</td>\n",
       "      <td>0</td>\n",
       "      <td>1</td>\n",
       "      <td>454</td>\n",
       "      <td>14</td>\n",
       "    </tr>\n",
       "    <tr>\n",
       "      <th>1017196</th>\n",
       "      <td>1115</td>\n",
       "      <td>0</td>\n",
       "      <td>0</td>\n",
       "      <td>close</td>\n",
       "      <td>0</td>\n",
       "      <td>0</td>\n",
       "      <td>0</td>\n",
       "      <td>7</td>\n",
       "      <td>454</td>\n",
       "      <td>14</td>\n",
       "    </tr>\n",
       "    <tr>\n",
       "      <th>1017197</th>\n",
       "      <td>1115</td>\n",
       "      <td>4497</td>\n",
       "      <td>350</td>\n",
       "      <td>open</td>\n",
       "      <td>0</td>\n",
       "      <td>0</td>\n",
       "      <td>0</td>\n",
       "      <td>6</td>\n",
       "      <td>454</td>\n",
       "      <td>14</td>\n",
       "    </tr>\n",
       "    <tr>\n",
       "      <th>1017198</th>\n",
       "      <td>1115</td>\n",
       "      <td>5142</td>\n",
       "      <td>351</td>\n",
       "      <td>open</td>\n",
       "      <td>1</td>\n",
       "      <td>0</td>\n",
       "      <td>1</td>\n",
       "      <td>5</td>\n",
       "      <td>454</td>\n",
       "      <td>14</td>\n",
       "    </tr>\n",
       "    <tr>\n",
       "      <th>1017199</th>\n",
       "      <td>1115</td>\n",
       "      <td>5007</td>\n",
       "      <td>339</td>\n",
       "      <td>open</td>\n",
       "      <td>1</td>\n",
       "      <td>0</td>\n",
       "      <td>1</td>\n",
       "      <td>4</td>\n",
       "      <td>454</td>\n",
       "      <td>14</td>\n",
       "    </tr>\n",
       "    <tr>\n",
       "      <th>1017200</th>\n",
       "      <td>1115</td>\n",
       "      <td>4649</td>\n",
       "      <td>324</td>\n",
       "      <td>open</td>\n",
       "      <td>1</td>\n",
       "      <td>0</td>\n",
       "      <td>1</td>\n",
       "      <td>3</td>\n",
       "      <td>454</td>\n",
       "      <td>14</td>\n",
       "    </tr>\n",
       "    <tr>\n",
       "      <th>1017201</th>\n",
       "      <td>1115</td>\n",
       "      <td>5243</td>\n",
       "      <td>341</td>\n",
       "      <td>open</td>\n",
       "      <td>1</td>\n",
       "      <td>0</td>\n",
       "      <td>1</td>\n",
       "      <td>2</td>\n",
       "      <td>454</td>\n",
       "      <td>14</td>\n",
       "    </tr>\n",
       "    <tr>\n",
       "      <th>1017202</th>\n",
       "      <td>1115</td>\n",
       "      <td>6905</td>\n",
       "      <td>471</td>\n",
       "      <td>open</td>\n",
       "      <td>1</td>\n",
       "      <td>0</td>\n",
       "      <td>1</td>\n",
       "      <td>1</td>\n",
       "      <td>454</td>\n",
       "      <td>14</td>\n",
       "    </tr>\n",
       "    <tr>\n",
       "      <th>1017203</th>\n",
       "      <td>1115</td>\n",
       "      <td>0</td>\n",
       "      <td>0</td>\n",
       "      <td>close</td>\n",
       "      <td>0</td>\n",
       "      <td>0</td>\n",
       "      <td>1</td>\n",
       "      <td>7</td>\n",
       "      <td>454</td>\n",
       "      <td>14</td>\n",
       "    </tr>\n",
       "    <tr>\n",
       "      <th>1017204</th>\n",
       "      <td>1115</td>\n",
       "      <td>4771</td>\n",
       "      <td>339</td>\n",
       "      <td>open</td>\n",
       "      <td>0</td>\n",
       "      <td>0</td>\n",
       "      <td>1</td>\n",
       "      <td>6</td>\n",
       "      <td>454</td>\n",
       "      <td>14</td>\n",
       "    </tr>\n",
       "    <tr>\n",
       "      <th>1017205</th>\n",
       "      <td>1115</td>\n",
       "      <td>4540</td>\n",
       "      <td>326</td>\n",
       "      <td>open</td>\n",
       "      <td>0</td>\n",
       "      <td>0</td>\n",
       "      <td>1</td>\n",
       "      <td>5</td>\n",
       "      <td>454</td>\n",
       "      <td>14</td>\n",
       "    </tr>\n",
       "    <tr>\n",
       "      <th>1017206</th>\n",
       "      <td>1115</td>\n",
       "      <td>4297</td>\n",
       "      <td>300</td>\n",
       "      <td>open</td>\n",
       "      <td>0</td>\n",
       "      <td>0</td>\n",
       "      <td>1</td>\n",
       "      <td>4</td>\n",
       "      <td>454</td>\n",
       "      <td>14</td>\n",
       "    </tr>\n",
       "    <tr>\n",
       "      <th>1017207</th>\n",
       "      <td>1115</td>\n",
       "      <td>3697</td>\n",
       "      <td>305</td>\n",
       "      <td>open</td>\n",
       "      <td>0</td>\n",
       "      <td>0</td>\n",
       "      <td>1</td>\n",
       "      <td>3</td>\n",
       "      <td>454</td>\n",
       "      <td>14</td>\n",
       "    </tr>\n",
       "    <tr>\n",
       "      <th>1017208</th>\n",
       "      <td>1115</td>\n",
       "      <td>0</td>\n",
       "      <td>0</td>\n",
       "      <td>close</td>\n",
       "      <td>0</td>\n",
       "      <td>1</td>\n",
       "      <td>1</td>\n",
       "      <td>2</td>\n",
       "      <td>454</td>\n",
       "      <td>14</td>\n",
       "    </tr>\n",
       "  </tbody>\n",
       "</table>\n",
       "</div>"
      ],
      "text/plain": [
       "         product type  Revenue  No of purchases store status  \\\n",
       "1017189          1115        0                0        close   \n",
       "1017190          1115     5207              369         open   \n",
       "1017191          1115     4287              296         open   \n",
       "1017192          1115     3039              244         open   \n",
       "1017193          1115     3064              237         open   \n",
       "1017194          1115     3528              277         open   \n",
       "1017195          1115     3158              252         open   \n",
       "1017196          1115        0                0        close   \n",
       "1017197          1115     4497              350         open   \n",
       "1017198          1115     5142              351         open   \n",
       "1017199          1115     5007              339         open   \n",
       "1017200          1115     4649              324         open   \n",
       "1017201          1115     5243              341         open   \n",
       "1017202          1115     6905              471         open   \n",
       "1017203          1115        0                0        close   \n",
       "1017204          1115     4771              339         open   \n",
       "1017205          1115     4540              326         open   \n",
       "1017206          1115     4297              300         open   \n",
       "1017207          1115     3697              305         open   \n",
       "1017208          1115        0                0        close   \n",
       "\n",
       "         Promotion applied  Generic Holiday  Education Holiday  DayOfWeek  \\\n",
       "1017189                  0                0                  0          7   \n",
       "1017190                  0                0                  0          6   \n",
       "1017191                  0                0                  0          5   \n",
       "1017192                  0                0                  0          4   \n",
       "1017193                  0                0                  0          3   \n",
       "1017194                  0                0                  0          2   \n",
       "1017195                  0                0                  0          1   \n",
       "1017196                  0                0                  0          7   \n",
       "1017197                  0                0                  0          6   \n",
       "1017198                  1                0                  1          5   \n",
       "1017199                  1                0                  1          4   \n",
       "1017200                  1                0                  1          3   \n",
       "1017201                  1                0                  1          2   \n",
       "1017202                  1                0                  1          1   \n",
       "1017203                  0                0                  1          7   \n",
       "1017204                  0                0                  1          6   \n",
       "1017205                  0                0                  1          5   \n",
       "1017206                  0                0                  1          4   \n",
       "1017207                  0                0                  1          3   \n",
       "1017208                  0                1                  1          2   \n",
       "\n",
       "         cost per unit  Time for delivery  \n",
       "1017189            454                 14  \n",
       "1017190            454                 14  \n",
       "1017191            454                 14  \n",
       "1017192            454                 14  \n",
       "1017193            454                 14  \n",
       "1017194            454                 14  \n",
       "1017195            454                 14  \n",
       "1017196            454                 14  \n",
       "1017197            454                 14  \n",
       "1017198            454                 14  \n",
       "1017199            454                 14  \n",
       "1017200            454                 14  \n",
       "1017201            454                 14  \n",
       "1017202            454                 14  \n",
       "1017203            454                 14  \n",
       "1017204            454                 14  \n",
       "1017205            454                 14  \n",
       "1017206            454                 14  \n",
       "1017207            454                 14  \n",
       "1017208            454                 14  "
      ]
     },
     "execution_count": 121,
     "metadata": {},
     "output_type": "execute_result"
    }
   ],
   "source": [
    "merged.tail(20)"
   ]
  },
  {
   "cell_type": "code",
   "execution_count": 122,
   "metadata": {},
   "outputs": [
    {
     "data": {
      "text/plain": [
       "(1017209, 10)"
      ]
     },
     "execution_count": 122,
     "metadata": {},
     "output_type": "execute_result"
    }
   ],
   "source": [
    "merged.shape"
   ]
  },
  {
   "cell_type": "code",
   "execution_count": 123,
   "metadata": {},
   "outputs": [
    {
     "data": {
      "text/plain": [
       "product type         0\n",
       "Revenue              0\n",
       "No of purchases      0\n",
       "store status         0\n",
       "Promotion applied    0\n",
       "Generic Holiday      0\n",
       "Education Holiday    0\n",
       "DayOfWeek            0\n",
       "cost per unit        0\n",
       "Time for delivery    0\n",
       "dtype: int64"
      ]
     },
     "execution_count": 123,
     "metadata": {},
     "output_type": "execute_result"
    }
   ],
   "source": [
    "merged.isnull().sum()"
   ]
  },
  {
   "cell_type": "code",
   "execution_count": 124,
   "metadata": {},
   "outputs": [
    {
     "name": "stdout",
     "output_type": "stream",
     "text": [
      "product type          1115\n",
      "Revenue              21734\n",
      "No of purchases       4086\n",
      "store status             2\n",
      "Promotion applied        2\n",
      "Generic Holiday          2\n",
      "Education Holiday        2\n",
      "DayOfWeek                7\n",
      "cost per unit          863\n",
      "Time for delivery       10\n",
      "dtype: int64\n"
     ]
    }
   ],
   "source": [
    "print(merged.nunique())\n"
   ]
  },
  {
   "cell_type": "code",
   "execution_count": 125,
   "metadata": {},
   "outputs": [
    {
     "data": {
      "text/html": [
       "<div>\n",
       "<style scoped>\n",
       "    .dataframe tbody tr th:only-of-type {\n",
       "        vertical-align: middle;\n",
       "    }\n",
       "\n",
       "    .dataframe tbody tr th {\n",
       "        vertical-align: top;\n",
       "    }\n",
       "\n",
       "    .dataframe thead th {\n",
       "        text-align: right;\n",
       "    }\n",
       "</style>\n",
       "<table border=\"1\" class=\"dataframe\">\n",
       "  <thead>\n",
       "    <tr style=\"text-align: right;\">\n",
       "      <th></th>\n",
       "      <th>product type</th>\n",
       "      <th>Revenue</th>\n",
       "      <th>No of purchases</th>\n",
       "      <th>Promotion applied</th>\n",
       "      <th>Generic Holiday</th>\n",
       "      <th>Education Holiday</th>\n",
       "      <th>DayOfWeek</th>\n",
       "      <th>cost per unit</th>\n",
       "      <th>Time for delivery</th>\n",
       "    </tr>\n",
       "  </thead>\n",
       "  <tbody>\n",
       "    <tr>\n",
       "      <th>count</th>\n",
       "      <td>1.017209e+06</td>\n",
       "      <td>1.017209e+06</td>\n",
       "      <td>1.017209e+06</td>\n",
       "      <td>1.017209e+06</td>\n",
       "      <td>1.017209e+06</td>\n",
       "      <td>1.017209e+06</td>\n",
       "      <td>1.017209e+06</td>\n",
       "      <td>1.017209e+06</td>\n",
       "      <td>1.017209e+06</td>\n",
       "    </tr>\n",
       "    <tr>\n",
       "      <th>mean</th>\n",
       "      <td>5.584297e+02</td>\n",
       "      <td>5.773832e+03</td>\n",
       "      <td>6.331444e+02</td>\n",
       "      <td>3.815145e-01</td>\n",
       "      <td>3.052470e-02</td>\n",
       "      <td>1.786467e-01</td>\n",
       "      <td>3.998341e+00</td>\n",
       "      <td>1.012841e+03</td>\n",
       "      <td>9.543625e+00</td>\n",
       "    </tr>\n",
       "    <tr>\n",
       "      <th>std</th>\n",
       "      <td>3.219087e+02</td>\n",
       "      <td>3.849954e+03</td>\n",
       "      <td>4.644115e+02</td>\n",
       "      <td>4.857586e-01</td>\n",
       "      <td>1.720261e-01</td>\n",
       "      <td>3.830564e-01</td>\n",
       "      <td>1.997391e+00</td>\n",
       "      <td>5.655016e+02</td>\n",
       "      <td>2.857043e+00</td>\n",
       "    </tr>\n",
       "    <tr>\n",
       "      <th>min</th>\n",
       "      <td>1.000000e+00</td>\n",
       "      <td>0.000000e+00</td>\n",
       "      <td>0.000000e+00</td>\n",
       "      <td>0.000000e+00</td>\n",
       "      <td>0.000000e+00</td>\n",
       "      <td>0.000000e+00</td>\n",
       "      <td>1.000000e+00</td>\n",
       "      <td>5.000000e+01</td>\n",
       "      <td>5.000000e+00</td>\n",
       "    </tr>\n",
       "    <tr>\n",
       "      <th>25%</th>\n",
       "      <td>2.800000e+02</td>\n",
       "      <td>3.727000e+03</td>\n",
       "      <td>4.050000e+02</td>\n",
       "      <td>0.000000e+00</td>\n",
       "      <td>0.000000e+00</td>\n",
       "      <td>0.000000e+00</td>\n",
       "      <td>2.000000e+00</td>\n",
       "      <td>5.020000e+02</td>\n",
       "      <td>7.000000e+00</td>\n",
       "    </tr>\n",
       "    <tr>\n",
       "      <th>50%</th>\n",
       "      <td>5.580000e+02</td>\n",
       "      <td>5.744000e+03</td>\n",
       "      <td>6.090000e+02</td>\n",
       "      <td>0.000000e+00</td>\n",
       "      <td>0.000000e+00</td>\n",
       "      <td>0.000000e+00</td>\n",
       "      <td>4.000000e+00</td>\n",
       "      <td>1.023000e+03</td>\n",
       "      <td>1.000000e+01</td>\n",
       "    </tr>\n",
       "    <tr>\n",
       "      <th>75%</th>\n",
       "      <td>8.380000e+02</td>\n",
       "      <td>7.856000e+03</td>\n",
       "      <td>8.370000e+02</td>\n",
       "      <td>1.000000e+00</td>\n",
       "      <td>0.000000e+00</td>\n",
       "      <td>0.000000e+00</td>\n",
       "      <td>6.000000e+00</td>\n",
       "      <td>1.519000e+03</td>\n",
       "      <td>1.200000e+01</td>\n",
       "    </tr>\n",
       "    <tr>\n",
       "      <th>max</th>\n",
       "      <td>1.115000e+03</td>\n",
       "      <td>4.155100e+04</td>\n",
       "      <td>7.388000e+03</td>\n",
       "      <td>1.000000e+00</td>\n",
       "      <td>1.000000e+00</td>\n",
       "      <td>1.000000e+00</td>\n",
       "      <td>7.000000e+00</td>\n",
       "      <td>1.999000e+03</td>\n",
       "      <td>1.400000e+01</td>\n",
       "    </tr>\n",
       "  </tbody>\n",
       "</table>\n",
       "</div>"
      ],
      "text/plain": [
       "       product type       Revenue  No of purchases  Promotion applied  \\\n",
       "count  1.017209e+06  1.017209e+06     1.017209e+06       1.017209e+06   \n",
       "mean   5.584297e+02  5.773832e+03     6.331444e+02       3.815145e-01   \n",
       "std    3.219087e+02  3.849954e+03     4.644115e+02       4.857586e-01   \n",
       "min    1.000000e+00  0.000000e+00     0.000000e+00       0.000000e+00   \n",
       "25%    2.800000e+02  3.727000e+03     4.050000e+02       0.000000e+00   \n",
       "50%    5.580000e+02  5.744000e+03     6.090000e+02       0.000000e+00   \n",
       "75%    8.380000e+02  7.856000e+03     8.370000e+02       1.000000e+00   \n",
       "max    1.115000e+03  4.155100e+04     7.388000e+03       1.000000e+00   \n",
       "\n",
       "       Generic Holiday  Education Holiday     DayOfWeek  cost per unit  \\\n",
       "count     1.017209e+06       1.017209e+06  1.017209e+06   1.017209e+06   \n",
       "mean      3.052470e-02       1.786467e-01  3.998341e+00   1.012841e+03   \n",
       "std       1.720261e-01       3.830564e-01  1.997391e+00   5.655016e+02   \n",
       "min       0.000000e+00       0.000000e+00  1.000000e+00   5.000000e+01   \n",
       "25%       0.000000e+00       0.000000e+00  2.000000e+00   5.020000e+02   \n",
       "50%       0.000000e+00       0.000000e+00  4.000000e+00   1.023000e+03   \n",
       "75%       0.000000e+00       0.000000e+00  6.000000e+00   1.519000e+03   \n",
       "max       1.000000e+00       1.000000e+00  7.000000e+00   1.999000e+03   \n",
       "\n",
       "       Time for delivery  \n",
       "count       1.017209e+06  \n",
       "mean        9.543625e+00  \n",
       "std         2.857043e+00  \n",
       "min         5.000000e+00  \n",
       "25%         7.000000e+00  \n",
       "50%         1.000000e+01  \n",
       "75%         1.200000e+01  \n",
       "max         1.400000e+01  "
      ]
     },
     "execution_count": 125,
     "metadata": {},
     "output_type": "execute_result"
    }
   ],
   "source": [
    "#Statistical description of the dataset\n",
    "merged.describe()"
   ]
  },
  {
   "cell_type": "code",
   "execution_count": 126,
   "metadata": {},
   "outputs": [
    {
     "name": "stdout",
     "output_type": "stream",
     "text": [
      "        product type  Revenue  No of purchases store status  \\\n",
      "159220           176     4426              609         open   \n",
      "\n",
      "        Promotion applied  Generic Holiday  Education Holiday  DayOfWeek  \\\n",
      "159220                  0                0                  0          2   \n",
      "\n",
      "        cost per unit  Time for delivery  \n",
      "159220           1722                  9  \n"
     ]
    }
   ],
   "source": [
    "print(merged.iloc[[159220]])"
   ]
  },
  {
   "cell_type": "code",
   "execution_count": 127,
   "metadata": {},
   "outputs": [
    {
     "name": "stdout",
     "output_type": "stream",
     "text": [
      "      product type  Revenue  No of purchases store status  Promotion applied  \\\n",
      "1000             2     6682              768         open                  1   \n",
      "\n",
      "      Generic Holiday  Education Holiday  DayOfWeek  cost per unit  \\\n",
      "1000                0                  0          3           1545   \n",
      "\n",
      "      Time for delivery  \n",
      "1000                 13  \n"
     ]
    }
   ],
   "source": [
    "print(merged.iloc[[1000]])"
   ]
  },
  {
   "cell_type": "code",
   "execution_count": 128,
   "metadata": {},
   "outputs": [
    {
     "name": "stdout",
     "output_type": "stream",
     "text": [
      "(1017209, 10)\n",
      "*****************\n",
      "product type          1115\n",
      "Revenue              21734\n",
      "No of purchases       4086\n",
      "store status             2\n",
      "Promotion applied        2\n",
      "Generic Holiday          2\n",
      "Education Holiday        2\n",
      "DayOfWeek                7\n",
      "cost per unit          863\n",
      "Time for delivery       10\n",
      "dtype: int64\n"
     ]
    }
   ],
   "source": [
    "# 1. Number of enteries \n",
    "print(merged.shape)\n",
    "# We have 1017209 rows and 8 columns \n",
    "\n",
    "# 2. Total number of products & unique values of the columns \n",
    "print(\"*****************\")\n",
    "print(merged.nunique())\n",
    "\n"
   ]
  },
  {
   "cell_type": "code",
   "execution_count": 129,
   "metadata": {},
   "outputs": [
    {
     "name": "stdout",
     "output_type": "stream",
     "text": [
      "*****************\n",
      "844390\n",
      "172819\n"
     ]
    }
   ],
   "source": [
    "# 3. Count of the historical and active state \n",
    "print(\"*****************\")\n",
    "print(merged[merged['store status'] == 'open']['store status'].count())\n",
    "print(merged[merged['store status'] == 'close']['store status'].count())"
   ]
  },
  {
   "cell_type": "code",
   "execution_count": 130,
   "metadata": {},
   "outputs": [
    {
     "data": {
      "text/plain": [
       "product type          int64\n",
       "Revenue               int64\n",
       "No of purchases       int64\n",
       "store status         object\n",
       "Promotion applied     int64\n",
       "Generic Holiday       int64\n",
       "Education Holiday     int64\n",
       "DayOfWeek             int64\n",
       "cost per unit         int64\n",
       "Time for delivery     int64\n",
       "dtype: object"
      ]
     },
     "execution_count": 130,
     "metadata": {},
     "output_type": "execute_result"
    }
   ],
   "source": [
    "merged.dtypes"
   ]
  },
  {
   "cell_type": "code",
   "execution_count": 514,
   "metadata": {},
   "outputs": [
    {
     "data": {
      "application/vnd.jupyter.widget-view+json": {
       "model_id": "a0ca10e2beee4a54b5f3298272efbd0a",
       "version_major": 2,
       "version_minor": 0
      },
      "text/plain": [
       "HBox(children=(HTML(value=''), FloatProgress(value=0.0, layout=Layout(flex='2'), max=11.0), HTML(value='')), l…"
      ]
     },
     "metadata": {},
     "output_type": "display_data"
    },
    {
     "name": "stdout",
     "output_type": "stream",
     "text": [
      "\n"
     ]
    }
   ],
   "source": [
    "my_report=sweetviz.analyze([merged,\"DATA1\"],target_feat=\"No of purchases\")"
   ]
  },
  {
   "cell_type": "code",
   "execution_count": 515,
   "metadata": {},
   "outputs": [
    {
     "name": "stdout",
     "output_type": "stream",
     "text": [
      "Report Report.html was generated! NOTEBOOK/COLAB USERS: the web browser MAY not pop up, regardless, the report IS saved in your notebook/colab files.\n"
     ]
    }
   ],
   "source": [
    "my_report.show_html(\"Report.html\")"
   ]
  },
  {
   "cell_type": "code",
   "execution_count": 516,
   "metadata": {},
   "outputs": [
    {
     "data": {
      "text/plain": [
       "<AxesSubplot:title={'center':'freq dist store status '}>"
      ]
     },
     "execution_count": 516,
     "metadata": {},
     "output_type": "execute_result"
    },
    {
     "data": {
      "image/png": "[encoded data removed]",
      "text/plain": [
       "<Figure size 600x400 with 1 Axes>"
      ]
     },
     "metadata": {},
     "output_type": "display_data"
    }
   ],
   "source": [
    "data1['store status'].value_counts().plot.bar(title=\"freq dist store status \")"
   ]
  },
  {
   "cell_type": "code",
   "execution_count": 517,
   "metadata": {},
   "outputs": [
    {
     "data": {
      "text/plain": [
       "<AxesSubplot:title={'center':'Freq dist of File Type'}>"
      ]
     },
     "execution_count": 517,
     "metadata": {},
     "output_type": "execute_result"
    },
    {
     "data": {
      "image/png": "[encoded data removed]",
      "text/plain": [
       "<Figure size 600x400 with 1 Axes>"
      ]
     },
     "metadata": {},
     "output_type": "display_data"
    }
   ],
   "source": [
    "data1['Promotion applied'].value_counts().plot.bar(title=\"Freq dist of File Type\")"
   ]
  },
  {
   "cell_type": "code",
   "execution_count": 518,
   "metadata": {},
   "outputs": [
    {
     "data": {
      "text/plain": [
       "<AxesSubplot:title={'center':'Freq dist of generic holiday'}>"
      ]
     },
     "execution_count": 518,
     "metadata": {},
     "output_type": "execute_result"
    },
    {
     "data": {
      "image/png": "[encoded data removed]",
      "text/plain": [
       "<Figure size 600x400 with 1 Axes>"
      ]
     },
     "metadata": {},
     "output_type": "display_data"
    }
   ],
   "source": [
    "data1['Generic Holiday'].value_counts().plot.bar(title=\"Freq dist of generic holiday\")"
   ]
  },
  {
   "cell_type": "code",
   "execution_count": 519,
   "metadata": {},
   "outputs": [
    {
     "data": {
      "text/plain": [
       "<AxesSubplot:title={'center':'Freq dist of File Type'}>"
      ]
     },
     "execution_count": 519,
     "metadata": {},
     "output_type": "execute_result"
    },
    {
     "data": {
      "image/png": "[encoded data removed]",
      "text/plain": [
       "<Figure size 600x400 with 1 Axes>"
      ]
     },
     "metadata": {},
     "output_type": "display_data"
    }
   ],
   "source": [
    "data1['Education Holiday'].value_counts().plot.bar(title=\"Freq dist of File Type\")"
   ]
  },
  {
   "cell_type": "code",
   "execution_count": 520,
   "metadata": {},
   "outputs": [
    {
     "data": {
      "text/plain": [
       "<AxesSubplot:title={'center':'Freq dist dayofweek'}>"
      ]
     },
     "execution_count": 520,
     "metadata": {},
     "output_type": "execute_result"
    },
    {
     "data": {
      "image/png": "[encoded data removed]",
      "text/plain": [
       "<Figure size 600x400 with 1 Axes>"
      ]
     },
     "metadata": {},
     "output_type": "display_data"
    }
   ],
   "source": [
    "data1['DayOfWeek'].value_counts().plot.bar(title=\"Freq dist dayofweek\")"
   ]
  },
  {
   "cell_type": "code",
   "execution_count": 521,
   "metadata": {},
   "outputs": [
    {
     "data": {
      "image/png": "[encoded data removed]",
      "text/plain": [
       "<Figure size 1800x600 with 1 Axes>"
      ]
     },
     "metadata": {},
     "output_type": "display_data"
    }
   ],
   "source": [
    "# No of purchages  vs store status\n",
    "sns.catplot(y = \"No of purchases\", x = \"store status\", data = data1.sort_values(\"product type\", ascending = False), kind=\"boxen\", height = 6, aspect = 3)\n",
    "plt.show()"
   ]
  },
  {
   "cell_type": "code",
   "execution_count": 522,
   "metadata": {},
   "outputs": [
    {
     "data": {
      "image/png": "[encoded data removed]",
      "text/plain": [
       "<Figure size 1800x600 with 1 Axes>"
      ]
     },
     "metadata": {},
     "output_type": "display_data"
    }
   ],
   "source": [
    "# No of purchages vs Education Holiday\n",
    "sns.catplot(y = \"No of purchases\", x = \"Education Holiday\", data = data1.sort_values(\"product type\", ascending = False), kind=\"boxen\", height = 6, aspect = 3)\n",
    "plt.show()"
   ]
  },
  {
   "cell_type": "code",
   "execution_count": 523,
   "metadata": {},
   "outputs": [
    {
     "data": {
      "image/png": "[encoded data removed]",
      "text/plain": [
       "<Figure size 1800x600 with 1 Axes>"
      ]
     },
     "metadata": {},
     "output_type": "display_data"
    }
   ],
   "source": [
    "# No of purchages vs Day of week\n",
    "sns.catplot(y = \"No of purchases\", x = \"DayOfWeek\", data = data1.sort_values(\"product type\", ascending = False), kind=\"boxen\", height = 6, aspect = 3)\n",
    "plt.show()"
   ]
  },
  {
   "cell_type": "code",
   "execution_count": 524,
   "metadata": {},
   "outputs": [
    {
     "data": {
      "image/png": "[encoded data removed]",
      "text/plain": [
       "<Figure size 1800x600 with 1 Axes>"
      ]
     },
     "metadata": {},
     "output_type": "display_data"
    }
   ],
   "source": [
    "# No of purchages vs Promotion applied\n",
    "sns.catplot(y = \"No of purchases\", x = \"Promotion applied\", data = data1.sort_values(\"product type\", ascending = False), kind=\"boxen\", height = 6, aspect = 3)\n",
    "plt.show()"
   ]
  },
  {
   "cell_type": "code",
   "execution_count": 525,
   "metadata": {},
   "outputs": [
    {
     "data": {
      "image/png": "[encoded data removed]",
      "text/plain": [
       "<Figure size 1800x600 with 1 Axes>"
      ]
     },
     "metadata": {},
     "output_type": "display_data"
    }
   ],
   "source": [
    "# No of purchages vs Day of week\n",
    "sns.catplot(y = \"Revenue\", x = \"DayOfWeek\", data = data1.sort_values(\"product type\", ascending = False), kind=\"boxen\", height = 6, aspect = 3)\n",
    "plt.show()"
   ]
  },
  {
   "cell_type": "code",
   "execution_count": 526,
   "metadata": {},
   "outputs": [
    {
     "data": {
      "image/png": "[encoded data removed]",
      "text/plain": [
       "<Figure size 1800x600 with 1 Axes>"
      ]
     },
     "metadata": {},
     "output_type": "display_data"
    }
   ],
   "source": [
    "# No of purchages vs Day of week\n",
    "sns.catplot(y = \"Revenue\", x = \"Promotion applied\", data = data1.sort_values(\"product type\", ascending = False), kind=\"boxen\", height = 6, aspect = 3)\n",
    "plt.show()"
   ]
  },
  {
   "cell_type": "code",
   "execution_count": 527,
   "metadata": {},
   "outputs": [
    {
     "data": {
      "image/png": "[encoded data removed]",
      "text/plain": [
       "<Figure size 1800x600 with 1 Axes>"
      ]
     },
     "metadata": {},
     "output_type": "display_data"
    }
   ],
   "source": [
    "# No of purchages vs Day of week\n",
    "sns.catplot(y = \"Revenue\", x = \"store status\", data = data1.sort_values(\"product type\", ascending = False), kind=\"boxen\", height = 6, aspect = 3)\n",
    "plt.show()"
   ]
  },
  {
   "cell_type": "code",
   "execution_count": 528,
   "metadata": {},
   "outputs": [
    {
     "data": {
      "image/png": "[encoded data removed]",
      "text/plain": [
       "<Figure size 2000x1400 with 2 Axes>"
      ]
     },
     "metadata": {},
     "output_type": "display_data"
    }
   ],
   "source": [
    "# Finds correlation between Independent and dependent attributes\n",
    "axis = plt.subplots(figsize=(20,14))\n",
    "sns.heatmap(merged.corr(),annot = True)\n",
    "plt.show()"
   ]
  },
  {
   "cell_type": "markdown",
   "metadata": {},
   "source": [
    "# Revenue and No Of Purchages have very High correlation i,e 0.89%"
   ]
  },
  {
   "cell_type": "markdown",
   "metadata": {},
   "source": [
    "# Aggregation of values Based on Day Of Week "
   ]
  },
  {
   "cell_type": "code",
   "execution_count": 131,
   "metadata": {},
   "outputs": [
    {
     "data": {
      "text/html": [
       "<div>\n",
       "<style scoped>\n",
       "    .dataframe tbody tr th:only-of-type {\n",
       "        vertical-align: middle;\n",
       "    }\n",
       "\n",
       "    .dataframe tbody tr th {\n",
       "        vertical-align: top;\n",
       "    }\n",
       "\n",
       "    .dataframe thead th {\n",
       "        text-align: right;\n",
       "    }\n",
       "</style>\n",
       "<table border=\"1\" class=\"dataframe\">\n",
       "  <thead>\n",
       "    <tr style=\"text-align: right;\">\n",
       "      <th></th>\n",
       "      <th>min</th>\n",
       "      <th>max</th>\n",
       "      <th>sum</th>\n",
       "      <th>count</th>\n",
       "      <th>mean</th>\n",
       "    </tr>\n",
       "    <tr>\n",
       "      <th>DayOfWeek</th>\n",
       "      <th></th>\n",
       "      <th></th>\n",
       "      <th></th>\n",
       "      <th></th>\n",
       "      <th></th>\n",
       "    </tr>\n",
       "  </thead>\n",
       "  <tbody>\n",
       "    <tr>\n",
       "      <th>1</th>\n",
       "      <td>0</td>\n",
       "      <td>41551</td>\n",
       "      <td>1130203012</td>\n",
       "      <td>144730</td>\n",
       "      <td>7809.044510</td>\n",
       "    </tr>\n",
       "    <tr>\n",
       "      <th>2</th>\n",
       "      <td>0</td>\n",
       "      <td>34692</td>\n",
       "      <td>1020411930</td>\n",
       "      <td>145664</td>\n",
       "      <td>7005.244467</td>\n",
       "    </tr>\n",
       "    <tr>\n",
       "      <th>3</th>\n",
       "      <td>0</td>\n",
       "      <td>33151</td>\n",
       "      <td>954962863</td>\n",
       "      <td>145665</td>\n",
       "      <td>6555.884138</td>\n",
       "    </tr>\n",
       "    <tr>\n",
       "      <th>4</th>\n",
       "      <td>0</td>\n",
       "      <td>38367</td>\n",
       "      <td>911177709</td>\n",
       "      <td>145845</td>\n",
       "      <td>6247.575913</td>\n",
       "    </tr>\n",
       "    <tr>\n",
       "      <th>5</th>\n",
       "      <td>0</td>\n",
       "      <td>38722</td>\n",
       "      <td>980569633</td>\n",
       "      <td>145845</td>\n",
       "      <td>6723.368185</td>\n",
       "    </tr>\n",
       "    <tr>\n",
       "      <th>6</th>\n",
       "      <td>0</td>\n",
       "      <td>31683</td>\n",
       "      <td>846317735</td>\n",
       "      <td>144730</td>\n",
       "      <td>5847.562599</td>\n",
       "    </tr>\n",
       "    <tr>\n",
       "      <th>7</th>\n",
       "      <td>0</td>\n",
       "      <td>37376</td>\n",
       "      <td>29551433</td>\n",
       "      <td>144730</td>\n",
       "      <td>204.183189</td>\n",
       "    </tr>\n",
       "  </tbody>\n",
       "</table>\n",
       "</div>"
      ],
      "text/plain": [
       "           min    max         sum   count         mean\n",
       "DayOfWeek                                             \n",
       "1            0  41551  1130203012  144730  7809.044510\n",
       "2            0  34692  1020411930  145664  7005.244467\n",
       "3            0  33151   954962863  145665  6555.884138\n",
       "4            0  38367   911177709  145845  6247.575913\n",
       "5            0  38722   980569633  145845  6723.368185\n",
       "6            0  31683   846317735  144730  5847.562599\n",
       "7            0  37376    29551433  144730   204.183189"
      ]
     },
     "execution_count": 131,
     "metadata": {},
     "output_type": "execute_result"
    }
   ],
   "source": [
    "merged.groupby(merged[\"DayOfWeek\"]).Revenue.agg([\"min\",\n",
    "                                               \"max\",\n",
    "                                               \"sum\",\n",
    "                                               \"count\",\n",
    "                                               \"mean\"])"
   ]
  },
  {
   "cell_type": "markdown",
   "metadata": {},
   "source": [
    "# Feature Engineering"
   ]
  },
  {
   "cell_type": "code",
   "execution_count": 132,
   "metadata": {},
   "outputs": [
    {
     "data": {
      "text/html": [
       "<div>\n",
       "<style scoped>\n",
       "    .dataframe tbody tr th:only-of-type {\n",
       "        vertical-align: middle;\n",
       "    }\n",
       "\n",
       "    .dataframe tbody tr th {\n",
       "        vertical-align: top;\n",
       "    }\n",
       "\n",
       "    .dataframe thead th {\n",
       "        text-align: right;\n",
       "    }\n",
       "</style>\n",
       "<table border=\"1\" class=\"dataframe\">\n",
       "  <thead>\n",
       "    <tr style=\"text-align: right;\">\n",
       "      <th></th>\n",
       "      <th>product type</th>\n",
       "      <th>Revenue</th>\n",
       "      <th>No of purchases</th>\n",
       "      <th>store status</th>\n",
       "      <th>Promotion applied</th>\n",
       "      <th>Generic Holiday</th>\n",
       "      <th>Education Holiday</th>\n",
       "      <th>DayOfWeek</th>\n",
       "      <th>cost per unit</th>\n",
       "      <th>Time for delivery</th>\n",
       "      <th>No_of_sales</th>\n",
       "    </tr>\n",
       "  </thead>\n",
       "  <tbody>\n",
       "    <tr>\n",
       "      <th>0</th>\n",
       "      <td>1</td>\n",
       "      <td>14190</td>\n",
       "      <td>890</td>\n",
       "      <td>open</td>\n",
       "      <td>1</td>\n",
       "      <td>0</td>\n",
       "      <td>1</td>\n",
       "      <td>5</td>\n",
       "      <td>457</td>\n",
       "      <td>11</td>\n",
       "      <td>31.050328</td>\n",
       "    </tr>\n",
       "    <tr>\n",
       "      <th>1</th>\n",
       "      <td>1</td>\n",
       "      <td>5020</td>\n",
       "      <td>546</td>\n",
       "      <td>open</td>\n",
       "      <td>1</td>\n",
       "      <td>0</td>\n",
       "      <td>1</td>\n",
       "      <td>4</td>\n",
       "      <td>457</td>\n",
       "      <td>11</td>\n",
       "      <td>10.984683</td>\n",
       "    </tr>\n",
       "    <tr>\n",
       "      <th>2</th>\n",
       "      <td>1</td>\n",
       "      <td>4782</td>\n",
       "      <td>523</td>\n",
       "      <td>open</td>\n",
       "      <td>1</td>\n",
       "      <td>0</td>\n",
       "      <td>1</td>\n",
       "      <td>3</td>\n",
       "      <td>457</td>\n",
       "      <td>11</td>\n",
       "      <td>10.463895</td>\n",
       "    </tr>\n",
       "    <tr>\n",
       "      <th>3</th>\n",
       "      <td>1</td>\n",
       "      <td>5011</td>\n",
       "      <td>560</td>\n",
       "      <td>open</td>\n",
       "      <td>1</td>\n",
       "      <td>0</td>\n",
       "      <td>1</td>\n",
       "      <td>2</td>\n",
       "      <td>457</td>\n",
       "      <td>11</td>\n",
       "      <td>10.964989</td>\n",
       "    </tr>\n",
       "    <tr>\n",
       "      <th>4</th>\n",
       "      <td>1</td>\n",
       "      <td>6102</td>\n",
       "      <td>612</td>\n",
       "      <td>open</td>\n",
       "      <td>1</td>\n",
       "      <td>0</td>\n",
       "      <td>1</td>\n",
       "      <td>1</td>\n",
       "      <td>457</td>\n",
       "      <td>11</td>\n",
       "      <td>13.352298</td>\n",
       "    </tr>\n",
       "  </tbody>\n",
       "</table>\n",
       "</div>"
      ],
      "text/plain": [
       "   product type  Revenue  No of purchases store status  Promotion applied  \\\n",
       "0             1    14190              890         open                  1   \n",
       "1             1     5020              546         open                  1   \n",
       "2             1     4782              523         open                  1   \n",
       "3             1     5011              560         open                  1   \n",
       "4             1     6102              612         open                  1   \n",
       "\n",
       "   Generic Holiday  Education Holiday  DayOfWeek  cost per unit  \\\n",
       "0                0                  1          5            457   \n",
       "1                0                  1          4            457   \n",
       "2                0                  1          3            457   \n",
       "3                0                  1          2            457   \n",
       "4                0                  1          1            457   \n",
       "\n",
       "   Time for delivery  No_of_sales  \n",
       "0                 11    31.050328  \n",
       "1                 11    10.984683  \n",
       "2                 11    10.463895  \n",
       "3                 11    10.964989  \n",
       "4                 11    13.352298  "
      ]
     },
     "execution_count": 132,
     "metadata": {},
     "output_type": "execute_result"
    }
   ],
   "source": [
    "merged[\"No_of_sales\"] = merged[\"Revenue\"] / merged[\"cost per unit\"]\n",
    "merged.head()"
   ]
  },
  {
   "cell_type": "code",
   "execution_count": 133,
   "metadata": {},
   "outputs": [
    {
     "data": {
      "text/html": [
       "<div>\n",
       "<style scoped>\n",
       "    .dataframe tbody tr th:only-of-type {\n",
       "        vertical-align: middle;\n",
       "    }\n",
       "\n",
       "    .dataframe tbody tr th {\n",
       "        vertical-align: top;\n",
       "    }\n",
       "\n",
       "    .dataframe thead th {\n",
       "        text-align: right;\n",
       "    }\n",
       "</style>\n",
       "<table border=\"1\" class=\"dataframe\">\n",
       "  <thead>\n",
       "    <tr style=\"text-align: right;\">\n",
       "      <th></th>\n",
       "      <th>min</th>\n",
       "      <th>max</th>\n",
       "      <th>sum</th>\n",
       "      <th>count</th>\n",
       "      <th>mean</th>\n",
       "    </tr>\n",
       "    <tr>\n",
       "      <th>DayOfWeek</th>\n",
       "      <th></th>\n",
       "      <th></th>\n",
       "      <th></th>\n",
       "      <th></th>\n",
       "      <th></th>\n",
       "    </tr>\n",
       "  </thead>\n",
       "  <tbody>\n",
       "    <tr>\n",
       "      <th>1</th>\n",
       "      <td>0.0</td>\n",
       "      <td>491.232143</td>\n",
       "      <td>2.127400e+06</td>\n",
       "      <td>144730</td>\n",
       "      <td>14.699093</td>\n",
       "    </tr>\n",
       "    <tr>\n",
       "      <th>2</th>\n",
       "      <td>0.0</td>\n",
       "      <td>398.642857</td>\n",
       "      <td>1.923581e+06</td>\n",
       "      <td>145664</td>\n",
       "      <td>13.205606</td>\n",
       "    </tr>\n",
       "    <tr>\n",
       "      <th>3</th>\n",
       "      <td>0.0</td>\n",
       "      <td>401.553571</td>\n",
       "      <td>1.802573e+06</td>\n",
       "      <td>145665</td>\n",
       "      <td>12.374782</td>\n",
       "    </tr>\n",
       "    <tr>\n",
       "      <th>4</th>\n",
       "      <td>0.0</td>\n",
       "      <td>396.254237</td>\n",
       "      <td>1.721682e+06</td>\n",
       "      <td>145845</td>\n",
       "      <td>11.804874</td>\n",
       "    </tr>\n",
       "    <tr>\n",
       "      <th>5</th>\n",
       "      <td>0.0</td>\n",
       "      <td>575.152542</td>\n",
       "      <td>1.857525e+06</td>\n",
       "      <td>145845</td>\n",
       "      <td>12.736297</td>\n",
       "    </tr>\n",
       "    <tr>\n",
       "      <th>6</th>\n",
       "      <td>0.0</td>\n",
       "      <td>435.321429</td>\n",
       "      <td>1.628462e+06</td>\n",
       "      <td>144730</td>\n",
       "      <td>11.251724</td>\n",
       "    </tr>\n",
       "    <tr>\n",
       "      <th>7</th>\n",
       "      <td>0.0</td>\n",
       "      <td>238.026786</td>\n",
       "      <td>6.322424e+04</td>\n",
       "      <td>144730</td>\n",
       "      <td>0.436843</td>\n",
       "    </tr>\n",
       "  </tbody>\n",
       "</table>\n",
       "</div>"
      ],
      "text/plain": [
       "           min         max           sum   count       mean\n",
       "DayOfWeek                                                  \n",
       "1          0.0  491.232143  2.127400e+06  144730  14.699093\n",
       "2          0.0  398.642857  1.923581e+06  145664  13.205606\n",
       "3          0.0  401.553571  1.802573e+06  145665  12.374782\n",
       "4          0.0  396.254237  1.721682e+06  145845  11.804874\n",
       "5          0.0  575.152542  1.857525e+06  145845  12.736297\n",
       "6          0.0  435.321429  1.628462e+06  144730  11.251724\n",
       "7          0.0  238.026786  6.322424e+04  144730   0.436843"
      ]
     },
     "execution_count": 133,
     "metadata": {},
     "output_type": "execute_result"
    }
   ],
   "source": [
    "merged.groupby(merged[\"DayOfWeek\"]).No_of_sales.agg([\"min\",  \"max\",   \"sum\",   \"count\", \"mean\"])\n",
    "                                              \n",
    "                                            \n",
    "                                             \n",
    "                                            "
   ]
  },
  {
   "cell_type": "code",
   "execution_count": 134,
   "metadata": {},
   "outputs": [
    {
     "data": {
      "text/html": [
       "<div>\n",
       "<style scoped>\n",
       "    .dataframe tbody tr th:only-of-type {\n",
       "        vertical-align: middle;\n",
       "    }\n",
       "\n",
       "    .dataframe tbody tr th {\n",
       "        vertical-align: top;\n",
       "    }\n",
       "\n",
       "    .dataframe thead th {\n",
       "        text-align: right;\n",
       "    }\n",
       "</style>\n",
       "<table border=\"1\" class=\"dataframe\">\n",
       "  <thead>\n",
       "    <tr style=\"text-align: right;\">\n",
       "      <th></th>\n",
       "      <th>product type</th>\n",
       "      <th>Revenue</th>\n",
       "      <th>No of purchases</th>\n",
       "      <th>store status</th>\n",
       "      <th>Promotion applied</th>\n",
       "      <th>Generic Holiday</th>\n",
       "      <th>Education Holiday</th>\n",
       "      <th>DayOfWeek</th>\n",
       "      <th>cost per unit</th>\n",
       "      <th>Time for delivery</th>\n",
       "      <th>No_of_sales</th>\n",
       "    </tr>\n",
       "  </thead>\n",
       "  <tbody>\n",
       "    <tr>\n",
       "      <th>0</th>\n",
       "      <td>1</td>\n",
       "      <td>14190</td>\n",
       "      <td>890</td>\n",
       "      <td>open</td>\n",
       "      <td>1</td>\n",
       "      <td>0</td>\n",
       "      <td>1</td>\n",
       "      <td>5</td>\n",
       "      <td>457</td>\n",
       "      <td>11</td>\n",
       "      <td>31.050328</td>\n",
       "    </tr>\n",
       "    <tr>\n",
       "      <th>1</th>\n",
       "      <td>1</td>\n",
       "      <td>5020</td>\n",
       "      <td>546</td>\n",
       "      <td>open</td>\n",
       "      <td>1</td>\n",
       "      <td>0</td>\n",
       "      <td>1</td>\n",
       "      <td>4</td>\n",
       "      <td>457</td>\n",
       "      <td>11</td>\n",
       "      <td>10.984683</td>\n",
       "    </tr>\n",
       "    <tr>\n",
       "      <th>2</th>\n",
       "      <td>1</td>\n",
       "      <td>4782</td>\n",
       "      <td>523</td>\n",
       "      <td>open</td>\n",
       "      <td>1</td>\n",
       "      <td>0</td>\n",
       "      <td>1</td>\n",
       "      <td>3</td>\n",
       "      <td>457</td>\n",
       "      <td>11</td>\n",
       "      <td>10.463895</td>\n",
       "    </tr>\n",
       "    <tr>\n",
       "      <th>3</th>\n",
       "      <td>1</td>\n",
       "      <td>5011</td>\n",
       "      <td>560</td>\n",
       "      <td>open</td>\n",
       "      <td>1</td>\n",
       "      <td>0</td>\n",
       "      <td>1</td>\n",
       "      <td>2</td>\n",
       "      <td>457</td>\n",
       "      <td>11</td>\n",
       "      <td>10.964989</td>\n",
       "    </tr>\n",
       "    <tr>\n",
       "      <th>4</th>\n",
       "      <td>1</td>\n",
       "      <td>6102</td>\n",
       "      <td>612</td>\n",
       "      <td>open</td>\n",
       "      <td>1</td>\n",
       "      <td>0</td>\n",
       "      <td>1</td>\n",
       "      <td>1</td>\n",
       "      <td>457</td>\n",
       "      <td>11</td>\n",
       "      <td>13.352298</td>\n",
       "    </tr>\n",
       "  </tbody>\n",
       "</table>\n",
       "</div>"
      ],
      "text/plain": [
       "   product type  Revenue  No of purchases store status  Promotion applied  \\\n",
       "0             1    14190              890         open                  1   \n",
       "1             1     5020              546         open                  1   \n",
       "2             1     4782              523         open                  1   \n",
       "3             1     5011              560         open                  1   \n",
       "4             1     6102              612         open                  1   \n",
       "\n",
       "   Generic Holiday  Education Holiday  DayOfWeek  cost per unit  \\\n",
       "0                0                  1          5            457   \n",
       "1                0                  1          4            457   \n",
       "2                0                  1          3            457   \n",
       "3                0                  1          2            457   \n",
       "4                0                  1          1            457   \n",
       "\n",
       "   Time for delivery  No_of_sales  \n",
       "0                 11    31.050328  \n",
       "1                 11    10.984683  \n",
       "2                 11    10.463895  \n",
       "3                 11    10.964989  \n",
       "4                 11    13.352298  "
      ]
     },
     "execution_count": 134,
     "metadata": {},
     "output_type": "execute_result"
    }
   ],
   "source": [
    "merged.head()"
   ]
  },
  {
   "cell_type": "code",
   "execution_count": 135,
   "metadata": {
    "scrolled": true
   },
   "outputs": [
    {
     "data": {
      "text/html": [
       "<div>\n",
       "<style scoped>\n",
       "    .dataframe tbody tr th:only-of-type {\n",
       "        vertical-align: middle;\n",
       "    }\n",
       "\n",
       "    .dataframe tbody tr th {\n",
       "        vertical-align: top;\n",
       "    }\n",
       "\n",
       "    .dataframe thead th {\n",
       "        text-align: right;\n",
       "    }\n",
       "</style>\n",
       "<table border=\"1\" class=\"dataframe\">\n",
       "  <thead>\n",
       "    <tr style=\"text-align: right;\">\n",
       "      <th></th>\n",
       "      <th>Revenue</th>\n",
       "      <th>No of purchases</th>\n",
       "      <th>Promotion applied</th>\n",
       "      <th>Generic Holiday</th>\n",
       "      <th>Education Holiday</th>\n",
       "      <th>DayOfWeek</th>\n",
       "      <th>cost per unit</th>\n",
       "      <th>Time for delivery</th>\n",
       "      <th>No_of_sales</th>\n",
       "    </tr>\n",
       "    <tr>\n",
       "      <th>product type</th>\n",
       "      <th></th>\n",
       "      <th></th>\n",
       "      <th></th>\n",
       "      <th></th>\n",
       "      <th></th>\n",
       "      <th></th>\n",
       "      <th></th>\n",
       "      <th></th>\n",
       "      <th></th>\n",
       "    </tr>\n",
       "  </thead>\n",
       "  <tbody>\n",
       "    <tr>\n",
       "      <th>210</th>\n",
       "      <td>2488114</td>\n",
       "      <td>254156</td>\n",
       "      <td>360</td>\n",
       "      <td>29</td>\n",
       "      <td>150</td>\n",
       "      <td>3766</td>\n",
       "      <td>1868928</td>\n",
       "      <td>9420</td>\n",
       "      <td>1254.089718</td>\n",
       "    </tr>\n",
       "    <tr>\n",
       "      <th>32</th>\n",
       "      <td>2526117</td>\n",
       "      <td>296333</td>\n",
       "      <td>286</td>\n",
       "      <td>29</td>\n",
       "      <td>124</td>\n",
       "      <td>3033</td>\n",
       "      <td>1501598</td>\n",
       "      <td>9854</td>\n",
       "      <td>1275.172640</td>\n",
       "    </tr>\n",
       "    <tr>\n",
       "      <th>263</th>\n",
       "      <td>2306075</td>\n",
       "      <td>221342</td>\n",
       "      <td>286</td>\n",
       "      <td>29</td>\n",
       "      <td>124</td>\n",
       "      <td>3033</td>\n",
       "      <td>1285568</td>\n",
       "      <td>4548</td>\n",
       "      <td>1359.714033</td>\n",
       "    </tr>\n",
       "    <tr>\n",
       "      <th>1049</th>\n",
       "      <td>2478906</td>\n",
       "      <td>395752</td>\n",
       "      <td>286</td>\n",
       "      <td>29</td>\n",
       "      <td>124</td>\n",
       "      <td>3033</td>\n",
       "      <td>1378044</td>\n",
       "      <td>6822</td>\n",
       "      <td>1363.534653</td>\n",
       "    </tr>\n",
       "    <tr>\n",
       "      <th>306</th>\n",
       "      <td>2717435</td>\n",
       "      <td>291021</td>\n",
       "      <td>286</td>\n",
       "      <td>29</td>\n",
       "      <td>124</td>\n",
       "      <td>3033</td>\n",
       "      <td>1504630</td>\n",
       "      <td>7580</td>\n",
       "      <td>1368.984887</td>\n",
       "    </tr>\n",
       "    <tr>\n",
       "      <th>764</th>\n",
       "      <td>2714404</td>\n",
       "      <td>303938</td>\n",
       "      <td>360</td>\n",
       "      <td>29</td>\n",
       "      <td>150</td>\n",
       "      <td>3766</td>\n",
       "      <td>1827480</td>\n",
       "      <td>5652</td>\n",
       "      <td>1399.177320</td>\n",
       "    </tr>\n",
       "    <tr>\n",
       "      <th>219</th>\n",
       "      <td>2441162</td>\n",
       "      <td>316620</td>\n",
       "      <td>360</td>\n",
       "      <td>29</td>\n",
       "      <td>170</td>\n",
       "      <td>3766</td>\n",
       "      <td>1640964</td>\n",
       "      <td>8478</td>\n",
       "      <td>1401.355913</td>\n",
       "    </tr>\n",
       "    <tr>\n",
       "      <th>425</th>\n",
       "      <td>2512424</td>\n",
       "      <td>337080</td>\n",
       "      <td>360</td>\n",
       "      <td>29</td>\n",
       "      <td>170</td>\n",
       "      <td>3766</td>\n",
       "      <td>1671108</td>\n",
       "      <td>13188</td>\n",
       "      <td>1416.248027</td>\n",
       "    </tr>\n",
       "    <tr>\n",
       "      <th>165</th>\n",
       "      <td>2486031</td>\n",
       "      <td>262891</td>\n",
       "      <td>286</td>\n",
       "      <td>29</td>\n",
       "      <td>124</td>\n",
       "      <td>3033</td>\n",
       "      <td>1309824</td>\n",
       "      <td>10612</td>\n",
       "      <td>1438.675347</td>\n",
       "    </tr>\n",
       "    <tr>\n",
       "      <th>837</th>\n",
       "      <td>2608765</td>\n",
       "      <td>345575</td>\n",
       "      <td>360</td>\n",
       "      <td>27</td>\n",
       "      <td>193</td>\n",
       "      <td>3766</td>\n",
       "      <td>1696542</td>\n",
       "      <td>6594</td>\n",
       "      <td>1448.509162</td>\n",
       "    </tr>\n",
       "  </tbody>\n",
       "</table>\n",
       "</div>"
      ],
      "text/plain": [
       "              Revenue  No of purchases  Promotion applied  Generic Holiday  \\\n",
       "product type                                                                 \n",
       "210           2488114           254156                360               29   \n",
       "32            2526117           296333                286               29   \n",
       "263           2306075           221342                286               29   \n",
       "1049          2478906           395752                286               29   \n",
       "306           2717435           291021                286               29   \n",
       "764           2714404           303938                360               29   \n",
       "219           2441162           316620                360               29   \n",
       "425           2512424           337080                360               29   \n",
       "165           2486031           262891                286               29   \n",
       "837           2608765           345575                360               27   \n",
       "\n",
       "              Education Holiday  DayOfWeek  cost per unit  Time for delivery  \\\n",
       "product type                                                                   \n",
       "210                         150       3766        1868928               9420   \n",
       "32                          124       3033        1501598               9854   \n",
       "263                         124       3033        1285568               4548   \n",
       "1049                        124       3033        1378044               6822   \n",
       "306                         124       3033        1504630               7580   \n",
       "764                         150       3766        1827480               5652   \n",
       "219                         170       3766        1640964               8478   \n",
       "425                         170       3766        1671108              13188   \n",
       "165                         124       3033        1309824              10612   \n",
       "837                         193       3766        1696542               6594   \n",
       "\n",
       "              No_of_sales  \n",
       "product type               \n",
       "210           1254.089718  \n",
       "32            1275.172640  \n",
       "263           1359.714033  \n",
       "1049          1363.534653  \n",
       "306           1368.984887  \n",
       "764           1399.177320  \n",
       "219           1401.355913  \n",
       "425           1416.248027  \n",
       "165           1438.675347  \n",
       "837           1448.509162  "
      ]
     },
     "execution_count": 135,
     "metadata": {},
     "output_type": "execute_result"
    }
   ],
   "source": [
    "merged.groupby([\"product type\"]).sum().sort_values(\"No_of_sales\", ascending=True).head(10)\n"
   ]
  },
  {
   "cell_type": "code",
   "execution_count": 136,
   "metadata": {},
   "outputs": [],
   "source": [
    "merged = merged.drop(\"No of purchases\", 1)"
   ]
  },
  {
   "cell_type": "code",
   "execution_count": 137,
   "metadata": {},
   "outputs": [],
   "source": [
    "merged = merged.drop(\"cost per unit\", 1)"
   ]
  },
  {
   "cell_type": "code",
   "execution_count": 138,
   "metadata": {},
   "outputs": [],
   "source": [
    "merged = merged.drop(\"Time for delivery\", 1)"
   ]
  },
  {
   "cell_type": "code",
   "execution_count": 139,
   "metadata": {},
   "outputs": [],
   "source": [
    "merged = merged.drop(\"Education Holiday\", 1)"
   ]
  },
  {
   "cell_type": "code",
   "execution_count": 140,
   "metadata": {},
   "outputs": [],
   "source": [
    "merged = merged.drop(\"store status\", 1)"
   ]
  },
  {
   "cell_type": "code",
   "execution_count": 141,
   "metadata": {},
   "outputs": [],
   "source": [
    "merged = merged.drop(\"Revenue\", 1)"
   ]
  },
  {
   "cell_type": "code",
   "execution_count": 142,
   "metadata": {},
   "outputs": [
    {
     "data": {
      "text/html": [
       "<div>\n",
       "<style scoped>\n",
       "    .dataframe tbody tr th:only-of-type {\n",
       "        vertical-align: middle;\n",
       "    }\n",
       "\n",
       "    .dataframe tbody tr th {\n",
       "        vertical-align: top;\n",
       "    }\n",
       "\n",
       "    .dataframe thead th {\n",
       "        text-align: right;\n",
       "    }\n",
       "</style>\n",
       "<table border=\"1\" class=\"dataframe\">\n",
       "  <thead>\n",
       "    <tr style=\"text-align: right;\">\n",
       "      <th></th>\n",
       "      <th>product type</th>\n",
       "      <th>Promotion applied</th>\n",
       "      <th>Generic Holiday</th>\n",
       "      <th>DayOfWeek</th>\n",
       "      <th>No_of_sales</th>\n",
       "    </tr>\n",
       "  </thead>\n",
       "  <tbody>\n",
       "    <tr>\n",
       "      <th>0</th>\n",
       "      <td>1</td>\n",
       "      <td>1</td>\n",
       "      <td>0</td>\n",
       "      <td>5</td>\n",
       "      <td>31.050328</td>\n",
       "    </tr>\n",
       "    <tr>\n",
       "      <th>1</th>\n",
       "      <td>1</td>\n",
       "      <td>1</td>\n",
       "      <td>0</td>\n",
       "      <td>4</td>\n",
       "      <td>10.984683</td>\n",
       "    </tr>\n",
       "    <tr>\n",
       "      <th>2</th>\n",
       "      <td>1</td>\n",
       "      <td>1</td>\n",
       "      <td>0</td>\n",
       "      <td>3</td>\n",
       "      <td>10.463895</td>\n",
       "    </tr>\n",
       "    <tr>\n",
       "      <th>3</th>\n",
       "      <td>1</td>\n",
       "      <td>1</td>\n",
       "      <td>0</td>\n",
       "      <td>2</td>\n",
       "      <td>10.964989</td>\n",
       "    </tr>\n",
       "    <tr>\n",
       "      <th>4</th>\n",
       "      <td>1</td>\n",
       "      <td>1</td>\n",
       "      <td>0</td>\n",
       "      <td>1</td>\n",
       "      <td>13.352298</td>\n",
       "    </tr>\n",
       "  </tbody>\n",
       "</table>\n",
       "</div>"
      ],
      "text/plain": [
       "   product type  Promotion applied  Generic Holiday  DayOfWeek  No_of_sales\n",
       "0             1                  1                0          5    31.050328\n",
       "1             1                  1                0          4    10.984683\n",
       "2             1                  1                0          3    10.463895\n",
       "3             1                  1                0          2    10.964989\n",
       "4             1                  1                0          1    13.352298"
      ]
     },
     "execution_count": 142,
     "metadata": {},
     "output_type": "execute_result"
    }
   ],
   "source": [
    "merged.head()"
   ]
  },
  {
   "cell_type": "code",
   "execution_count": 143,
   "metadata": {},
   "outputs": [
    {
     "data": {
      "text/html": [
       "<div>\n",
       "<style scoped>\n",
       "    .dataframe tbody tr th:only-of-type {\n",
       "        vertical-align: middle;\n",
       "    }\n",
       "\n",
       "    .dataframe tbody tr th {\n",
       "        vertical-align: top;\n",
       "    }\n",
       "\n",
       "    .dataframe thead th {\n",
       "        text-align: right;\n",
       "    }\n",
       "</style>\n",
       "<table border=\"1\" class=\"dataframe\">\n",
       "  <thead>\n",
       "    <tr style=\"text-align: right;\">\n",
       "      <th></th>\n",
       "      <th>product type</th>\n",
       "      <th>Promotion applied</th>\n",
       "      <th>Generic Holiday</th>\n",
       "      <th>DayOfWeek</th>\n",
       "      <th>No_of_sales</th>\n",
       "    </tr>\n",
       "  </thead>\n",
       "  <tbody>\n",
       "    <tr>\n",
       "      <th>0</th>\n",
       "      <td>1</td>\n",
       "      <td>1</td>\n",
       "      <td>0</td>\n",
       "      <td>5</td>\n",
       "      <td>31.050328</td>\n",
       "    </tr>\n",
       "    <tr>\n",
       "      <th>1</th>\n",
       "      <td>1</td>\n",
       "      <td>1</td>\n",
       "      <td>0</td>\n",
       "      <td>4</td>\n",
       "      <td>10.984683</td>\n",
       "    </tr>\n",
       "    <tr>\n",
       "      <th>2</th>\n",
       "      <td>1</td>\n",
       "      <td>1</td>\n",
       "      <td>0</td>\n",
       "      <td>3</td>\n",
       "      <td>10.463895</td>\n",
       "    </tr>\n",
       "    <tr>\n",
       "      <th>3</th>\n",
       "      <td>1</td>\n",
       "      <td>1</td>\n",
       "      <td>0</td>\n",
       "      <td>2</td>\n",
       "      <td>10.964989</td>\n",
       "    </tr>\n",
       "    <tr>\n",
       "      <th>4</th>\n",
       "      <td>1</td>\n",
       "      <td>1</td>\n",
       "      <td>0</td>\n",
       "      <td>1</td>\n",
       "      <td>13.352298</td>\n",
       "    </tr>\n",
       "  </tbody>\n",
       "</table>\n",
       "</div>"
      ],
      "text/plain": [
       "   product type  Promotion applied  Generic Holiday  DayOfWeek  No_of_sales\n",
       "0             1                  1                0          5    31.050328\n",
       "1             1                  1                0          4    10.984683\n",
       "2             1                  1                0          3    10.463895\n",
       "3             1                  1                0          2    10.964989\n",
       "4             1                  1                0          1    13.352298"
      ]
     },
     "execution_count": 143,
     "metadata": {},
     "output_type": "execute_result"
    }
   ],
   "source": [
    "merged.head()"
   ]
  },
  {
   "cell_type": "code",
   "execution_count": 144,
   "metadata": {},
   "outputs": [
    {
     "data": {
      "text/plain": [
       "product type         0\n",
       "Promotion applied    0\n",
       "Generic Holiday      0\n",
       "DayOfWeek            0\n",
       "No_of_sales          0\n",
       "dtype: int64"
      ]
     },
     "execution_count": 144,
     "metadata": {},
     "output_type": "execute_result"
    }
   ],
   "source": [
    "merged.isnull().sum()"
   ]
  },
  {
   "cell_type": "code",
   "execution_count": 145,
   "metadata": {},
   "outputs": [
    {
     "data": {
      "text/html": [
       "<div>\n",
       "<style scoped>\n",
       "    .dataframe tbody tr th:only-of-type {\n",
       "        vertical-align: middle;\n",
       "    }\n",
       "\n",
       "    .dataframe tbody tr th {\n",
       "        vertical-align: top;\n",
       "    }\n",
       "\n",
       "    .dataframe thead th {\n",
       "        text-align: right;\n",
       "    }\n",
       "</style>\n",
       "<table border=\"1\" class=\"dataframe\">\n",
       "  <thead>\n",
       "    <tr style=\"text-align: right;\">\n",
       "      <th></th>\n",
       "      <th>product type</th>\n",
       "      <th>Promotion applied</th>\n",
       "      <th>Generic Holiday</th>\n",
       "      <th>DayOfWeek</th>\n",
       "    </tr>\n",
       "  </thead>\n",
       "  <tbody>\n",
       "    <tr>\n",
       "      <th>0</th>\n",
       "      <td>1</td>\n",
       "      <td>1</td>\n",
       "      <td>0</td>\n",
       "      <td>5</td>\n",
       "    </tr>\n",
       "    <tr>\n",
       "      <th>1</th>\n",
       "      <td>1</td>\n",
       "      <td>1</td>\n",
       "      <td>0</td>\n",
       "      <td>4</td>\n",
       "    </tr>\n",
       "    <tr>\n",
       "      <th>2</th>\n",
       "      <td>1</td>\n",
       "      <td>1</td>\n",
       "      <td>0</td>\n",
       "      <td>3</td>\n",
       "    </tr>\n",
       "    <tr>\n",
       "      <th>3</th>\n",
       "      <td>1</td>\n",
       "      <td>1</td>\n",
       "      <td>0</td>\n",
       "      <td>2</td>\n",
       "    </tr>\n",
       "    <tr>\n",
       "      <th>4</th>\n",
       "      <td>1</td>\n",
       "      <td>1</td>\n",
       "      <td>0</td>\n",
       "      <td>1</td>\n",
       "    </tr>\n",
       "  </tbody>\n",
       "</table>\n",
       "</div>"
      ],
      "text/plain": [
       "   product type  Promotion applied  Generic Holiday  DayOfWeek\n",
       "0             1                  1                0          5\n",
       "1             1                  1                0          4\n",
       "2             1                  1                0          3\n",
       "3             1                  1                0          2\n",
       "4             1                  1                0          1"
      ]
     },
     "execution_count": 145,
     "metadata": {},
     "output_type": "execute_result"
    }
   ],
   "source": [
    "X = merged.loc[:, ['product type',\"Promotion applied\",\"Generic Holiday\",\n",
    "        'DayOfWeek']]\n",
    "\n",
    "X.head()"
   ]
  },
  {
   "cell_type": "code",
   "execution_count": 146,
   "metadata": {},
   "outputs": [
    {
     "data": {
      "text/plain": [
       "0    31.050328\n",
       "1    10.984683\n",
       "2    10.463895\n",
       "3    10.964989\n",
       "4    13.352298\n",
       "Name: No_of_sales, dtype: float64"
      ]
     },
     "execution_count": 146,
     "metadata": {},
     "output_type": "execute_result"
    }
   ],
   "source": [
    "y = merged.iloc[:, 4]\n",
    "y.head()"
   ]
  },
  {
   "cell_type": "code",
   "execution_count": 147,
   "metadata": {},
   "outputs": [
    {
     "data": {
      "text/plain": [
       "(1017209,)"
      ]
     },
     "execution_count": 147,
     "metadata": {},
     "output_type": "execute_result"
    }
   ],
   "source": [
    "y.shape"
   ]
  },
  {
   "cell_type": "code",
   "execution_count": 148,
   "metadata": {},
   "outputs": [
    {
     "data": {
      "text/plain": [
       "product type         int64\n",
       "Promotion applied    int64\n",
       "Generic Holiday      int64\n",
       "DayOfWeek            int64\n",
       "dtype: object"
      ]
     },
     "execution_count": 148,
     "metadata": {},
     "output_type": "execute_result"
    }
   ],
   "source": [
    "X.dtypes"
   ]
  },
  {
   "cell_type": "code",
   "execution_count": 149,
   "metadata": {},
   "outputs": [
    {
     "data": {
      "text/plain": [
       "product type         int64\n",
       "Promotion applied    int64\n",
       "Generic Holiday      int64\n",
       "DayOfWeek            int64\n",
       "dtype: object"
      ]
     },
     "execution_count": 149,
     "metadata": {},
     "output_type": "execute_result"
    }
   ],
   "source": [
    "X.dtypes"
   ]
  },
  {
   "cell_type": "code",
   "execution_count": 150,
   "metadata": {},
   "outputs": [
    {
     "data": {
      "text/plain": [
       "dtype('float64')"
      ]
     },
     "execution_count": 150,
     "metadata": {},
     "output_type": "execute_result"
    }
   ],
   "source": [
    "y.dtypes"
   ]
  },
  {
   "cell_type": "markdown",
   "metadata": {},
   "source": [
    "# Normalizing the data "
   ]
  },
  {
   "cell_type": "code",
   "execution_count": 151,
   "metadata": {},
   "outputs": [
    {
     "data": {
      "image/png": "[encoded data removed]",
      "text/plain": [
       "<Figure size 720x576 with 1 Axes>"
      ]
     },
     "metadata": {
      "needs_background": "light"
     },
     "output_type": "display_data"
    }
   ],
   "source": [
    "# plot original distribution plot with larger value feature\n",
    "fig, (ax1) = plt.subplots(ncols=1, figsize=(10, 8))\n",
    "ax1.set_title('Original Distributions')\n",
    "\n",
    "sns.kdeplot(X['product type'], ax=ax1)\n",
    "sns.kdeplot(X['Promotion applied'], ax=ax1)\n",
    "sns.kdeplot(X['Generic Holiday'], ax=ax1)\n",
    "sns.kdeplot(X['DayOfWeek'], ax=ax1);\n"
   ]
  },
  {
   "cell_type": "code",
   "execution_count": 152,
   "metadata": {},
   "outputs": [],
   "source": [
    "from sklearn import preprocessing\n",
    "import warnings\n",
    "\n",
    "warnings.filterwarnings('ignore')\n",
    "\n"
   ]
  },
  {
   "cell_type": "code",
   "execution_count": 153,
   "metadata": {},
   "outputs": [
    {
     "data": {
      "text/html": [
       "<div>\n",
       "<style scoped>\n",
       "    .dataframe tbody tr th:only-of-type {\n",
       "        vertical-align: middle;\n",
       "    }\n",
       "\n",
       "    .dataframe tbody tr th {\n",
       "        vertical-align: top;\n",
       "    }\n",
       "\n",
       "    .dataframe thead th {\n",
       "        text-align: right;\n",
       "    }\n",
       "</style>\n",
       "<table border=\"1\" class=\"dataframe\">\n",
       "  <thead>\n",
       "    <tr style=\"text-align: right;\">\n",
       "      <th></th>\n",
       "      <th>product type</th>\n",
       "      <th>Promotion applied</th>\n",
       "      <th>Generic Holiday</th>\n",
       "      <th>DayOfWeek</th>\n",
       "    </tr>\n",
       "  </thead>\n",
       "  <tbody>\n",
       "    <tr>\n",
       "      <th>0</th>\n",
       "      <td>1</td>\n",
       "      <td>1</td>\n",
       "      <td>0</td>\n",
       "      <td>5</td>\n",
       "    </tr>\n",
       "    <tr>\n",
       "      <th>1</th>\n",
       "      <td>1</td>\n",
       "      <td>1</td>\n",
       "      <td>0</td>\n",
       "      <td>4</td>\n",
       "    </tr>\n",
       "    <tr>\n",
       "      <th>2</th>\n",
       "      <td>1</td>\n",
       "      <td>1</td>\n",
       "      <td>0</td>\n",
       "      <td>3</td>\n",
       "    </tr>\n",
       "    <tr>\n",
       "      <th>3</th>\n",
       "      <td>1</td>\n",
       "      <td>1</td>\n",
       "      <td>0</td>\n",
       "      <td>2</td>\n",
       "    </tr>\n",
       "    <tr>\n",
       "      <th>4</th>\n",
       "      <td>1</td>\n",
       "      <td>1</td>\n",
       "      <td>0</td>\n",
       "      <td>1</td>\n",
       "    </tr>\n",
       "    <tr>\n",
       "      <th>...</th>\n",
       "      <td>...</td>\n",
       "      <td>...</td>\n",
       "      <td>...</td>\n",
       "      <td>...</td>\n",
       "    </tr>\n",
       "    <tr>\n",
       "      <th>1017204</th>\n",
       "      <td>1115</td>\n",
       "      <td>0</td>\n",
       "      <td>0</td>\n",
       "      <td>6</td>\n",
       "    </tr>\n",
       "    <tr>\n",
       "      <th>1017205</th>\n",
       "      <td>1115</td>\n",
       "      <td>0</td>\n",
       "      <td>0</td>\n",
       "      <td>5</td>\n",
       "    </tr>\n",
       "    <tr>\n",
       "      <th>1017206</th>\n",
       "      <td>1115</td>\n",
       "      <td>0</td>\n",
       "      <td>0</td>\n",
       "      <td>4</td>\n",
       "    </tr>\n",
       "    <tr>\n",
       "      <th>1017207</th>\n",
       "      <td>1115</td>\n",
       "      <td>0</td>\n",
       "      <td>0</td>\n",
       "      <td>3</td>\n",
       "    </tr>\n",
       "    <tr>\n",
       "      <th>1017208</th>\n",
       "      <td>1115</td>\n",
       "      <td>0</td>\n",
       "      <td>1</td>\n",
       "      <td>2</td>\n",
       "    </tr>\n",
       "  </tbody>\n",
       "</table>\n",
       "<p>1017209 rows × 4 columns</p>\n",
       "</div>"
      ],
      "text/plain": [
       "         product type  Promotion applied  Generic Holiday  DayOfWeek\n",
       "0                   1                  1                0          5\n",
       "1                   1                  1                0          4\n",
       "2                   1                  1                0          3\n",
       "3                   1                  1                0          2\n",
       "4                   1                  1                0          1\n",
       "...               ...                ...              ...        ...\n",
       "1017204          1115                  0                0          6\n",
       "1017205          1115                  0                0          5\n",
       "1017206          1115                  0                0          4\n",
       "1017207          1115                  0                0          3\n",
       "1017208          1115                  0                1          2\n",
       "\n",
       "[1017209 rows x 4 columns]"
      ]
     },
     "execution_count": 153,
     "metadata": {},
     "output_type": "execute_result"
    }
   ],
   "source": [
    "X"
   ]
  },
  {
   "cell_type": "markdown",
   "metadata": {},
   "source": [
    "# Robust scaler"
   ]
  },
  {
   "cell_type": "code",
   "execution_count": 154,
   "metadata": {},
   "outputs": [
    {
     "data": {
      "image/png": "[encoded data removed]",
      "text/plain": [
       "<Figure size 720x576 with 1 Axes>"
      ]
     },
     "metadata": {
      "needs_background": "light"
     },
     "output_type": "display_data"
    }
   ],
   "source": [
    "r_scaler = preprocessing.RobustScaler()\n",
    "df_r = r_scaler.fit_transform(X)\n",
    "\n",
    "df_r = pd.DataFrame(df_r,columns=[\"product type\",\"Promotion applied\",\"Generic Holiday\",\"DayOfWeek\"])\n",
    "\n",
    "fig, (ax2) = plt.subplots(ncols=1, figsize=(10, 8))\n",
    "ax2.set_title('After RobustScaler')\n",
    "\n",
    "sns.kdeplot(df_r['product type'], ax=ax2)\n",
    "sns.kdeplot(df_r['Promotion applied'], ax=ax2)\n",
    "sns.kdeplot(df_r['Generic Holiday'], ax=ax2)\n",
    "sns.kdeplot(df_r['DayOfWeek'], ax=ax2);"
   ]
  },
  {
   "cell_type": "code",
   "execution_count": 155,
   "metadata": {},
   "outputs": [
    {
     "data": {
      "text/html": [
       "<div>\n",
       "<style scoped>\n",
       "    .dataframe tbody tr th:only-of-type {\n",
       "        vertical-align: middle;\n",
       "    }\n",
       "\n",
       "    .dataframe tbody tr th {\n",
       "        vertical-align: top;\n",
       "    }\n",
       "\n",
       "    .dataframe thead th {\n",
       "        text-align: right;\n",
       "    }\n",
       "</style>\n",
       "<table border=\"1\" class=\"dataframe\">\n",
       "  <thead>\n",
       "    <tr style=\"text-align: right;\">\n",
       "      <th></th>\n",
       "      <th>product type</th>\n",
       "      <th>Promotion applied</th>\n",
       "      <th>Generic Holiday</th>\n",
       "      <th>DayOfWeek</th>\n",
       "    </tr>\n",
       "  </thead>\n",
       "  <tbody>\n",
       "    <tr>\n",
       "      <th>0</th>\n",
       "      <td>-0.998208</td>\n",
       "      <td>1.0</td>\n",
       "      <td>0.0</td>\n",
       "      <td>0.25</td>\n",
       "    </tr>\n",
       "    <tr>\n",
       "      <th>1</th>\n",
       "      <td>-0.998208</td>\n",
       "      <td>1.0</td>\n",
       "      <td>0.0</td>\n",
       "      <td>0.00</td>\n",
       "    </tr>\n",
       "    <tr>\n",
       "      <th>2</th>\n",
       "      <td>-0.998208</td>\n",
       "      <td>1.0</td>\n",
       "      <td>0.0</td>\n",
       "      <td>-0.25</td>\n",
       "    </tr>\n",
       "    <tr>\n",
       "      <th>3</th>\n",
       "      <td>-0.998208</td>\n",
       "      <td>1.0</td>\n",
       "      <td>0.0</td>\n",
       "      <td>-0.50</td>\n",
       "    </tr>\n",
       "    <tr>\n",
       "      <th>4</th>\n",
       "      <td>-0.998208</td>\n",
       "      <td>1.0</td>\n",
       "      <td>0.0</td>\n",
       "      <td>-0.75</td>\n",
       "    </tr>\n",
       "    <tr>\n",
       "      <th>...</th>\n",
       "      <td>...</td>\n",
       "      <td>...</td>\n",
       "      <td>...</td>\n",
       "      <td>...</td>\n",
       "    </tr>\n",
       "    <tr>\n",
       "      <th>1017204</th>\n",
       "      <td>0.998208</td>\n",
       "      <td>0.0</td>\n",
       "      <td>0.0</td>\n",
       "      <td>0.50</td>\n",
       "    </tr>\n",
       "    <tr>\n",
       "      <th>1017205</th>\n",
       "      <td>0.998208</td>\n",
       "      <td>0.0</td>\n",
       "      <td>0.0</td>\n",
       "      <td>0.25</td>\n",
       "    </tr>\n",
       "    <tr>\n",
       "      <th>1017206</th>\n",
       "      <td>0.998208</td>\n",
       "      <td>0.0</td>\n",
       "      <td>0.0</td>\n",
       "      <td>0.00</td>\n",
       "    </tr>\n",
       "    <tr>\n",
       "      <th>1017207</th>\n",
       "      <td>0.998208</td>\n",
       "      <td>0.0</td>\n",
       "      <td>0.0</td>\n",
       "      <td>-0.25</td>\n",
       "    </tr>\n",
       "    <tr>\n",
       "      <th>1017208</th>\n",
       "      <td>0.998208</td>\n",
       "      <td>0.0</td>\n",
       "      <td>1.0</td>\n",
       "      <td>-0.50</td>\n",
       "    </tr>\n",
       "  </tbody>\n",
       "</table>\n",
       "<p>1017209 rows × 4 columns</p>\n",
       "</div>"
      ],
      "text/plain": [
       "         product type  Promotion applied  Generic Holiday  DayOfWeek\n",
       "0           -0.998208                1.0              0.0       0.25\n",
       "1           -0.998208                1.0              0.0       0.00\n",
       "2           -0.998208                1.0              0.0      -0.25\n",
       "3           -0.998208                1.0              0.0      -0.50\n",
       "4           -0.998208                1.0              0.0      -0.75\n",
       "...               ...                ...              ...        ...\n",
       "1017204      0.998208                0.0              0.0       0.50\n",
       "1017205      0.998208                0.0              0.0       0.25\n",
       "1017206      0.998208                0.0              0.0       0.00\n",
       "1017207      0.998208                0.0              0.0      -0.25\n",
       "1017208      0.998208                0.0              1.0      -0.50\n",
       "\n",
       "[1017209 rows x 4 columns]"
      ]
     },
     "execution_count": 155,
     "metadata": {},
     "output_type": "execute_result"
    }
   ],
   "source": [
    "df_r"
   ]
  },
  {
   "cell_type": "code",
   "execution_count": 156,
   "metadata": {},
   "outputs": [
    {
     "data": {
      "text/plain": [
       "[-0.9982078853046595, 0.0, 0.0, -0.75]"
      ]
     },
     "execution_count": 156,
     "metadata": {},
     "output_type": "execute_result"
    }
   ],
   "source": [
    "mins = [df_r[col].min() for col in df_r.columns]\n",
    "mins"
   ]
  },
  {
   "cell_type": "code",
   "execution_count": 157,
   "metadata": {},
   "outputs": [
    {
     "data": {
      "text/plain": [
       "[0.9982078853046595, 1.0, 1.0, 0.75]"
      ]
     },
     "execution_count": 157,
     "metadata": {},
     "output_type": "execute_result"
    }
   ],
   "source": [
    "maxs = [df_r[col].max() for col in df_r.columns]\n",
    "maxs"
   ]
  },
  {
   "cell_type": "markdown",
   "metadata": {},
   "source": [
    "# Combined Plot"
   ]
  },
  {
   "cell_type": "code",
   "execution_count": 158,
   "metadata": {},
   "outputs": [
    {
     "data": {
      "image/png": "[encoded data removed]",
      "text/plain": [
       "<Figure size 1440x576 with 2 Axes>"
      ]
     },
     "metadata": {
      "needs_background": "light"
     },
     "output_type": "display_data"
    }
   ],
   "source": [
    "# Combined plot.\n",
    "\n",
    "fig, (ax1, ax2) = plt.subplots(ncols=2, figsize=(20, 8))\n",
    "\n",
    "\n",
    "ax1.set_title('Original Distributions')\n",
    "\n",
    "sns.kdeplot(X['product type'], ax=ax1)\n",
    "sns.kdeplot(X['Promotion applied'], ax=ax1)\n",
    "sns.kdeplot(X['Generic Holiday'], ax=ax1)\n",
    "sns.kdeplot(X['DayOfWeek'], ax=ax1);\n",
    "\n",
    "\n",
    "\n",
    "ax2.set_title('After RobustScaler')\n",
    "\n",
    "sns.kdeplot(df_r['product type'], ax=ax2)\n",
    "sns.kdeplot(df_r['Promotion applied'], ax=ax2)\n",
    "sns.kdeplot(df_r['Generic Holiday'], ax=ax2)\n",
    "sns.kdeplot(df_r['DayOfWeek'], ax=ax2);\n"
   ]
  },
  {
   "cell_type": "markdown",
   "metadata": {},
   "source": [
    "# VIF Factor Checking for mine variables "
   ]
  },
  {
   "cell_type": "code",
   "execution_count": 159,
   "metadata": {},
   "outputs": [],
   "source": [
    "import statsmodels.api as sm\n",
    "from statsmodels.stats.outliers_influence import variance_inflation_factor"
   ]
  },
  {
   "cell_type": "code",
   "execution_count": 160,
   "metadata": {},
   "outputs": [],
   "source": [
    "vif = pd.DataFrame()\n",
    "vif[\"VIF Factor\"] = [variance_inflation_factor(X.values, i) for i in range(X.shape[1])]\n",
    "vif[\"features\"] = X.columns"
   ]
  },
  {
   "cell_type": "code",
   "execution_count": 161,
   "metadata": {},
   "outputs": [
    {
     "data": {
      "text/html": [
       "<div>\n",
       "<style scoped>\n",
       "    .dataframe tbody tr th:only-of-type {\n",
       "        vertical-align: middle;\n",
       "    }\n",
       "\n",
       "    .dataframe tbody tr th {\n",
       "        vertical-align: top;\n",
       "    }\n",
       "\n",
       "    .dataframe thead th {\n",
       "        text-align: right;\n",
       "    }\n",
       "</style>\n",
       "<table border=\"1\" class=\"dataframe\">\n",
       "  <thead>\n",
       "    <tr style=\"text-align: right;\">\n",
       "      <th></th>\n",
       "      <th>VIF Factor</th>\n",
       "      <th>features</th>\n",
       "    </tr>\n",
       "  </thead>\n",
       "  <tbody>\n",
       "    <tr>\n",
       "      <th>0</th>\n",
       "      <td>2.918497</td>\n",
       "      <td>product type</td>\n",
       "    </tr>\n",
       "    <tr>\n",
       "      <th>1</th>\n",
       "      <td>1.401908</td>\n",
       "      <td>Promotion applied</td>\n",
       "    </tr>\n",
       "    <tr>\n",
       "      <th>2</th>\n",
       "      <td>1.024600</td>\n",
       "      <td>Generic Holiday</td>\n",
       "    </tr>\n",
       "    <tr>\n",
       "      <th>3</th>\n",
       "      <td>2.505786</td>\n",
       "      <td>DayOfWeek</td>\n",
       "    </tr>\n",
       "  </tbody>\n",
       "</table>\n",
       "</div>"
      ],
      "text/plain": [
       "   VIF Factor           features\n",
       "0    2.918497       product type\n",
       "1    1.401908  Promotion applied\n",
       "2    1.024600    Generic Holiday\n",
       "3    2.505786          DayOfWeek"
      ]
     },
     "execution_count": 161,
     "metadata": {},
     "output_type": "execute_result"
    }
   ],
   "source": [
    "vif"
   ]
  },
  {
   "cell_type": "markdown",
   "metadata": {},
   "source": [
    "# For All the features VIF Factor is less than 10 only so we consider "
   ]
  },
  {
   "cell_type": "code",
   "execution_count": 48,
   "metadata": {},
   "outputs": [],
   "source": [
    "from sklearn.model_selection import train_test_split\n",
    "X_train, X_test, y_train, y_test = train_test_split(df_r, y, test_size = 0.2, random_state = 42)"
   ]
  },
  {
   "cell_type": "code",
   "execution_count": 49,
   "metadata": {},
   "outputs": [
    {
     "data": {
      "text/html": [
       "<div>\n",
       "<style scoped>\n",
       "    .dataframe tbody tr th:only-of-type {\n",
       "        vertical-align: middle;\n",
       "    }\n",
       "\n",
       "    .dataframe tbody tr th {\n",
       "        vertical-align: top;\n",
       "    }\n",
       "\n",
       "    .dataframe thead th {\n",
       "        text-align: right;\n",
       "    }\n",
       "</style>\n",
       "<table border=\"1\" class=\"dataframe\">\n",
       "  <thead>\n",
       "    <tr style=\"text-align: right;\">\n",
       "      <th></th>\n",
       "      <th>product type</th>\n",
       "      <th>Promotion applied</th>\n",
       "      <th>Generic Holiday</th>\n",
       "      <th>DayOfWeek</th>\n",
       "    </tr>\n",
       "  </thead>\n",
       "  <tbody>\n",
       "    <tr>\n",
       "      <th>417683</th>\n",
       "      <td>-0.179211</td>\n",
       "      <td>0.0</td>\n",
       "      <td>0.0</td>\n",
       "      <td>0.75</td>\n",
       "    </tr>\n",
       "    <tr>\n",
       "      <th>659402</th>\n",
       "      <td>0.299283</td>\n",
       "      <td>0.0</td>\n",
       "      <td>0.0</td>\n",
       "      <td>0.25</td>\n",
       "    </tr>\n",
       "    <tr>\n",
       "      <th>739873</th>\n",
       "      <td>0.455197</td>\n",
       "      <td>1.0</td>\n",
       "      <td>0.0</td>\n",
       "      <td>-0.75</td>\n",
       "    </tr>\n",
       "    <tr>\n",
       "      <th>109671</th>\n",
       "      <td>-0.783154</td>\n",
       "      <td>0.0</td>\n",
       "      <td>0.0</td>\n",
       "      <td>0.00</td>\n",
       "    </tr>\n",
       "    <tr>\n",
       "      <th>422541</th>\n",
       "      <td>-0.170251</td>\n",
       "      <td>0.0</td>\n",
       "      <td>0.0</td>\n",
       "      <td>0.50</td>\n",
       "    </tr>\n",
       "    <tr>\n",
       "      <th>...</th>\n",
       "      <td>...</td>\n",
       "      <td>...</td>\n",
       "      <td>...</td>\n",
       "      <td>...</td>\n",
       "    </tr>\n",
       "    <tr>\n",
       "      <th>259178</th>\n",
       "      <td>-0.487455</td>\n",
       "      <td>0.0</td>\n",
       "      <td>0.0</td>\n",
       "      <td>-0.50</td>\n",
       "    </tr>\n",
       "    <tr>\n",
       "      <th>365838</th>\n",
       "      <td>-0.281362</td>\n",
       "      <td>1.0</td>\n",
       "      <td>0.0</td>\n",
       "      <td>0.25</td>\n",
       "    </tr>\n",
       "    <tr>\n",
       "      <th>131932</th>\n",
       "      <td>-0.738351</td>\n",
       "      <td>0.0</td>\n",
       "      <td>0.0</td>\n",
       "      <td>-0.25</td>\n",
       "    </tr>\n",
       "    <tr>\n",
       "      <th>671155</th>\n",
       "      <td>0.320789</td>\n",
       "      <td>1.0</td>\n",
       "      <td>0.0</td>\n",
       "      <td>-0.50</td>\n",
       "    </tr>\n",
       "    <tr>\n",
       "      <th>121958</th>\n",
       "      <td>-0.759857</td>\n",
       "      <td>0.0</td>\n",
       "      <td>0.0</td>\n",
       "      <td>0.50</td>\n",
       "    </tr>\n",
       "  </tbody>\n",
       "</table>\n",
       "<p>813767 rows × 4 columns</p>\n",
       "</div>"
      ],
      "text/plain": [
       "        product type  Promotion applied  Generic Holiday  DayOfWeek\n",
       "417683     -0.179211                0.0              0.0       0.75\n",
       "659402      0.299283                0.0              0.0       0.25\n",
       "739873      0.455197                1.0              0.0      -0.75\n",
       "109671     -0.783154                0.0              0.0       0.00\n",
       "422541     -0.170251                0.0              0.0       0.50\n",
       "...              ...                ...              ...        ...\n",
       "259178     -0.487455                0.0              0.0      -0.50\n",
       "365838     -0.281362                1.0              0.0       0.25\n",
       "131932     -0.738351                0.0              0.0      -0.25\n",
       "671155      0.320789                1.0              0.0      -0.50\n",
       "121958     -0.759857                0.0              0.0       0.50\n",
       "\n",
       "[813767 rows x 4 columns]"
      ]
     },
     "execution_count": 49,
     "metadata": {},
     "output_type": "execute_result"
    }
   ],
   "source": [
    "X_train"
   ]
  },
  {
   "cell_type": "code",
   "execution_count": 50,
   "metadata": {},
   "outputs": [
    {
     "data": {
      "text/html": [
       "<div>\n",
       "<style scoped>\n",
       "    .dataframe tbody tr th:only-of-type {\n",
       "        vertical-align: middle;\n",
       "    }\n",
       "\n",
       "    .dataframe tbody tr th {\n",
       "        vertical-align: top;\n",
       "    }\n",
       "\n",
       "    .dataframe thead th {\n",
       "        text-align: right;\n",
       "    }\n",
       "</style>\n",
       "<table border=\"1\" class=\"dataframe\">\n",
       "  <thead>\n",
       "    <tr style=\"text-align: right;\">\n",
       "      <th></th>\n",
       "      <th>product type</th>\n",
       "      <th>Promotion applied</th>\n",
       "      <th>Generic Holiday</th>\n",
       "      <th>DayOfWeek</th>\n",
       "    </tr>\n",
       "  </thead>\n",
       "  <tbody>\n",
       "    <tr>\n",
       "      <th>76435</th>\n",
       "      <td>-0.849462</td>\n",
       "      <td>0.0</td>\n",
       "      <td>0.0</td>\n",
       "      <td>-0.75</td>\n",
       "    </tr>\n",
       "    <tr>\n",
       "      <th>923026</th>\n",
       "      <td>0.815412</td>\n",
       "      <td>0.0</td>\n",
       "      <td>0.0</td>\n",
       "      <td>0.50</td>\n",
       "    </tr>\n",
       "    <tr>\n",
       "      <th>731180</th>\n",
       "      <td>0.439068</td>\n",
       "      <td>0.0</td>\n",
       "      <td>0.0</td>\n",
       "      <td>0.25</td>\n",
       "    </tr>\n",
       "    <tr>\n",
       "      <th>790350</th>\n",
       "      <td>0.553763</td>\n",
       "      <td>1.0</td>\n",
       "      <td>0.0</td>\n",
       "      <td>0.00</td>\n",
       "    </tr>\n",
       "    <tr>\n",
       "      <th>252134</th>\n",
       "      <td>-0.501792</td>\n",
       "      <td>0.0</td>\n",
       "      <td>0.0</td>\n",
       "      <td>0.50</td>\n",
       "    </tr>\n",
       "    <tr>\n",
       "      <th>...</th>\n",
       "      <td>...</td>\n",
       "      <td>...</td>\n",
       "      <td>...</td>\n",
       "      <td>...</td>\n",
       "    </tr>\n",
       "    <tr>\n",
       "      <th>574924</th>\n",
       "      <td>0.130824</td>\n",
       "      <td>0.0</td>\n",
       "      <td>0.0</td>\n",
       "      <td>0.00</td>\n",
       "    </tr>\n",
       "    <tr>\n",
       "      <th>752038</th>\n",
       "      <td>0.480287</td>\n",
       "      <td>0.0</td>\n",
       "      <td>0.0</td>\n",
       "      <td>-0.25</td>\n",
       "    </tr>\n",
       "    <tr>\n",
       "      <th>38978</th>\n",
       "      <td>-0.922939</td>\n",
       "      <td>0.0</td>\n",
       "      <td>0.0</td>\n",
       "      <td>0.25</td>\n",
       "    </tr>\n",
       "    <tr>\n",
       "      <th>193217</th>\n",
       "      <td>-0.616487</td>\n",
       "      <td>0.0</td>\n",
       "      <td>0.0</td>\n",
       "      <td>-0.50</td>\n",
       "    </tr>\n",
       "    <tr>\n",
       "      <th>260336</th>\n",
       "      <td>-0.485663</td>\n",
       "      <td>1.0</td>\n",
       "      <td>0.0</td>\n",
       "      <td>-0.75</td>\n",
       "    </tr>\n",
       "  </tbody>\n",
       "</table>\n",
       "<p>203442 rows × 4 columns</p>\n",
       "</div>"
      ],
      "text/plain": [
       "        product type  Promotion applied  Generic Holiday  DayOfWeek\n",
       "76435      -0.849462                0.0              0.0      -0.75\n",
       "923026      0.815412                0.0              0.0       0.50\n",
       "731180      0.439068                0.0              0.0       0.25\n",
       "790350      0.553763                1.0              0.0       0.00\n",
       "252134     -0.501792                0.0              0.0       0.50\n",
       "...              ...                ...              ...        ...\n",
       "574924      0.130824                0.0              0.0       0.00\n",
       "752038      0.480287                0.0              0.0      -0.25\n",
       "38978      -0.922939                0.0              0.0       0.25\n",
       "193217     -0.616487                0.0              0.0      -0.50\n",
       "260336     -0.485663                1.0              0.0      -0.75\n",
       "\n",
       "[203442 rows x 4 columns]"
      ]
     },
     "execution_count": 50,
     "metadata": {},
     "output_type": "execute_result"
    }
   ],
   "source": [
    "X_test"
   ]
  },
  {
   "cell_type": "code",
   "execution_count": 51,
   "metadata": {},
   "outputs": [
    {
     "data": {
      "text/plain": [
       "417683     0.000000\n",
       "659402    36.818750\n",
       "739873    31.396341\n",
       "109671     6.077901\n",
       "422541     3.884696\n",
       "            ...    \n",
       "259178     2.000547\n",
       "365838     4.234622\n",
       "131932    28.913514\n",
       "671155     6.177138\n",
       "121958     2.782160\n",
       "Name: No_of_sales, Length: 813767, dtype: float64"
      ]
     },
     "execution_count": 51,
     "metadata": {},
     "output_type": "execute_result"
    }
   ],
   "source": [
    "y_train"
   ]
  },
  {
   "cell_type": "code",
   "execution_count": 52,
   "metadata": {},
   "outputs": [
    {
     "data": {
      "text/plain": [
       "76435     11.204301\n",
       "923026     2.381107\n",
       "731180    17.451299\n",
       "790350     2.990061\n",
       "252134    14.480620\n",
       "            ...    \n",
       "574924     4.191759\n",
       "752038     3.853341\n",
       "38978      6.324698\n",
       "193217    31.262948\n",
       "260336     8.804766\n",
       "Name: No_of_sales, Length: 203442, dtype: float64"
      ]
     },
     "execution_count": 52,
     "metadata": {},
     "output_type": "execute_result"
    }
   ],
   "source": [
    "y_test"
   ]
  },
  {
   "cell_type": "code",
   "execution_count": 162,
   "metadata": {},
   "outputs": [
    {
     "data": {
      "text/plain": [
       "ExtraTreesRegressor(bootstrap=False, criterion='mse', max_depth=None,\n",
       "                    max_features='auto', max_leaf_nodes=None,\n",
       "                    min_impurity_decrease=0.0, min_impurity_split=None,\n",
       "                    min_samples_leaf=1, min_samples_split=2,\n",
       "                    min_weight_fraction_leaf=0.0, n_estimators=10, n_jobs=None,\n",
       "                    oob_score=False, random_state=None, verbose=0,\n",
       "                    warm_start=False)"
      ]
     },
     "execution_count": 162,
     "metadata": {},
     "output_type": "execute_result"
    }
   ],
   "source": [
    "# Important feature using ExtraTreesRegressor\n",
    "\n",
    "from sklearn.ensemble import ExtraTreesRegressor\n",
    "selection = ExtraTreesRegressor()\n",
    "selection.fit(X, y)"
   ]
  },
  {
   "cell_type": "code",
   "execution_count": 163,
   "metadata": {},
   "outputs": [
    {
     "data": {
      "image/png": "[encoded data removed]",
      "text/plain": [
       "<Figure size 864x576 with 1 Axes>"
      ]
     },
     "metadata": {
      "needs_background": "light"
     },
     "output_type": "display_data"
    }
   ],
   "source": [
    "#plot graph of feature importances for better visualization\n",
    "\n",
    "plt.figure(figsize = (12,8))\n",
    "feat_importances = pd.Series(selection.feature_importances_, index=X.columns)\n",
    "feat_importances.nlargest(20).plot(kind='barh')\n",
    "plt.show()\n"
   ]
  },
  {
   "cell_type": "code",
   "execution_count": 164,
   "metadata": {},
   "outputs": [
    {
     "data": {
      "text/html": [
       "<div>\n",
       "<style scoped>\n",
       "    .dataframe tbody tr th:only-of-type {\n",
       "        vertical-align: middle;\n",
       "    }\n",
       "\n",
       "    .dataframe tbody tr th {\n",
       "        vertical-align: top;\n",
       "    }\n",
       "\n",
       "    .dataframe thead th {\n",
       "        text-align: right;\n",
       "    }\n",
       "</style>\n",
       "<table border=\"1\" class=\"dataframe\">\n",
       "  <thead>\n",
       "    <tr style=\"text-align: right;\">\n",
       "      <th></th>\n",
       "      <th>product type</th>\n",
       "      <th>Promotion applied</th>\n",
       "      <th>Generic Holiday</th>\n",
       "      <th>DayOfWeek</th>\n",
       "    </tr>\n",
       "  </thead>\n",
       "  <tbody>\n",
       "    <tr>\n",
       "      <th>0</th>\n",
       "      <td>1</td>\n",
       "      <td>1</td>\n",
       "      <td>0</td>\n",
       "      <td>5</td>\n",
       "    </tr>\n",
       "    <tr>\n",
       "      <th>1</th>\n",
       "      <td>1</td>\n",
       "      <td>1</td>\n",
       "      <td>0</td>\n",
       "      <td>4</td>\n",
       "    </tr>\n",
       "    <tr>\n",
       "      <th>2</th>\n",
       "      <td>1</td>\n",
       "      <td>1</td>\n",
       "      <td>0</td>\n",
       "      <td>3</td>\n",
       "    </tr>\n",
       "    <tr>\n",
       "      <th>3</th>\n",
       "      <td>1</td>\n",
       "      <td>1</td>\n",
       "      <td>0</td>\n",
       "      <td>2</td>\n",
       "    </tr>\n",
       "    <tr>\n",
       "      <th>4</th>\n",
       "      <td>1</td>\n",
       "      <td>1</td>\n",
       "      <td>0</td>\n",
       "      <td>1</td>\n",
       "    </tr>\n",
       "    <tr>\n",
       "      <th>...</th>\n",
       "      <td>...</td>\n",
       "      <td>...</td>\n",
       "      <td>...</td>\n",
       "      <td>...</td>\n",
       "    </tr>\n",
       "    <tr>\n",
       "      <th>1017204</th>\n",
       "      <td>1115</td>\n",
       "      <td>0</td>\n",
       "      <td>0</td>\n",
       "      <td>6</td>\n",
       "    </tr>\n",
       "    <tr>\n",
       "      <th>1017205</th>\n",
       "      <td>1115</td>\n",
       "      <td>0</td>\n",
       "      <td>0</td>\n",
       "      <td>5</td>\n",
       "    </tr>\n",
       "    <tr>\n",
       "      <th>1017206</th>\n",
       "      <td>1115</td>\n",
       "      <td>0</td>\n",
       "      <td>0</td>\n",
       "      <td>4</td>\n",
       "    </tr>\n",
       "    <tr>\n",
       "      <th>1017207</th>\n",
       "      <td>1115</td>\n",
       "      <td>0</td>\n",
       "      <td>0</td>\n",
       "      <td>3</td>\n",
       "    </tr>\n",
       "    <tr>\n",
       "      <th>1017208</th>\n",
       "      <td>1115</td>\n",
       "      <td>0</td>\n",
       "      <td>1</td>\n",
       "      <td>2</td>\n",
       "    </tr>\n",
       "  </tbody>\n",
       "</table>\n",
       "<p>1017209 rows × 4 columns</p>\n",
       "</div>"
      ],
      "text/plain": [
       "         product type  Promotion applied  Generic Holiday  DayOfWeek\n",
       "0                   1                  1                0          5\n",
       "1                   1                  1                0          4\n",
       "2                   1                  1                0          3\n",
       "3                   1                  1                0          2\n",
       "4                   1                  1                0          1\n",
       "...               ...                ...              ...        ...\n",
       "1017204          1115                  0                0          6\n",
       "1017205          1115                  0                0          5\n",
       "1017206          1115                  0                0          4\n",
       "1017207          1115                  0                0          3\n",
       "1017208          1115                  0                1          2\n",
       "\n",
       "[1017209 rows x 4 columns]"
      ]
     },
     "execution_count": 164,
     "metadata": {},
     "output_type": "execute_result"
    }
   ],
   "source": [
    "X"
   ]
  },
  {
   "cell_type": "code",
   "execution_count": 165,
   "metadata": {},
   "outputs": [
    {
     "data": {
      "text/html": [
       "<div>\n",
       "<style scoped>\n",
       "    .dataframe tbody tr th:only-of-type {\n",
       "        vertical-align: middle;\n",
       "    }\n",
       "\n",
       "    .dataframe tbody tr th {\n",
       "        vertical-align: top;\n",
       "    }\n",
       "\n",
       "    .dataframe thead th {\n",
       "        text-align: right;\n",
       "    }\n",
       "</style>\n",
       "<table border=\"1\" class=\"dataframe\">\n",
       "  <thead>\n",
       "    <tr style=\"text-align: right;\">\n",
       "      <th></th>\n",
       "      <th>product type</th>\n",
       "      <th>Promotion applied</th>\n",
       "      <th>Generic Holiday</th>\n",
       "      <th>DayOfWeek</th>\n",
       "    </tr>\n",
       "  </thead>\n",
       "  <tbody>\n",
       "    <tr>\n",
       "      <th>0</th>\n",
       "      <td>-0.998208</td>\n",
       "      <td>1.0</td>\n",
       "      <td>0.0</td>\n",
       "      <td>0.25</td>\n",
       "    </tr>\n",
       "    <tr>\n",
       "      <th>1</th>\n",
       "      <td>-0.998208</td>\n",
       "      <td>1.0</td>\n",
       "      <td>0.0</td>\n",
       "      <td>0.00</td>\n",
       "    </tr>\n",
       "    <tr>\n",
       "      <th>2</th>\n",
       "      <td>-0.998208</td>\n",
       "      <td>1.0</td>\n",
       "      <td>0.0</td>\n",
       "      <td>-0.25</td>\n",
       "    </tr>\n",
       "    <tr>\n",
       "      <th>3</th>\n",
       "      <td>-0.998208</td>\n",
       "      <td>1.0</td>\n",
       "      <td>0.0</td>\n",
       "      <td>-0.50</td>\n",
       "    </tr>\n",
       "    <tr>\n",
       "      <th>4</th>\n",
       "      <td>-0.998208</td>\n",
       "      <td>1.0</td>\n",
       "      <td>0.0</td>\n",
       "      <td>-0.75</td>\n",
       "    </tr>\n",
       "    <tr>\n",
       "      <th>...</th>\n",
       "      <td>...</td>\n",
       "      <td>...</td>\n",
       "      <td>...</td>\n",
       "      <td>...</td>\n",
       "    </tr>\n",
       "    <tr>\n",
       "      <th>1017204</th>\n",
       "      <td>0.998208</td>\n",
       "      <td>0.0</td>\n",
       "      <td>0.0</td>\n",
       "      <td>0.50</td>\n",
       "    </tr>\n",
       "    <tr>\n",
       "      <th>1017205</th>\n",
       "      <td>0.998208</td>\n",
       "      <td>0.0</td>\n",
       "      <td>0.0</td>\n",
       "      <td>0.25</td>\n",
       "    </tr>\n",
       "    <tr>\n",
       "      <th>1017206</th>\n",
       "      <td>0.998208</td>\n",
       "      <td>0.0</td>\n",
       "      <td>0.0</td>\n",
       "      <td>0.00</td>\n",
       "    </tr>\n",
       "    <tr>\n",
       "      <th>1017207</th>\n",
       "      <td>0.998208</td>\n",
       "      <td>0.0</td>\n",
       "      <td>0.0</td>\n",
       "      <td>-0.25</td>\n",
       "    </tr>\n",
       "    <tr>\n",
       "      <th>1017208</th>\n",
       "      <td>0.998208</td>\n",
       "      <td>0.0</td>\n",
       "      <td>1.0</td>\n",
       "      <td>-0.50</td>\n",
       "    </tr>\n",
       "  </tbody>\n",
       "</table>\n",
       "<p>1017209 rows × 4 columns</p>\n",
       "</div>"
      ],
      "text/plain": [
       "         product type  Promotion applied  Generic Holiday  DayOfWeek\n",
       "0           -0.998208                1.0              0.0       0.25\n",
       "1           -0.998208                1.0              0.0       0.00\n",
       "2           -0.998208                1.0              0.0      -0.25\n",
       "3           -0.998208                1.0              0.0      -0.50\n",
       "4           -0.998208                1.0              0.0      -0.75\n",
       "...               ...                ...              ...        ...\n",
       "1017204      0.998208                0.0              0.0       0.50\n",
       "1017205      0.998208                0.0              0.0       0.25\n",
       "1017206      0.998208                0.0              0.0       0.00\n",
       "1017207      0.998208                0.0              0.0      -0.25\n",
       "1017208      0.998208                0.0              1.0      -0.50\n",
       "\n",
       "[1017209 rows x 4 columns]"
      ]
     },
     "execution_count": 165,
     "metadata": {},
     "output_type": "execute_result"
    }
   ],
   "source": [
    "df_r"
   ]
  },
  {
   "cell_type": "code",
   "execution_count": 166,
   "metadata": {},
   "outputs": [],
   "source": [
    "#preparing model considering all the variables \n",
    "import statsmodels.formula.api as smf # for regression model"
   ]
  },
  {
   "cell_type": "code",
   "execution_count": 167,
   "metadata": {},
   "outputs": [],
   "source": [
    "# Preparing model                  \n",
    "ml1 = smf.ols('y~X',data=merged).fit() # regression model\n"
   ]
  },
  {
   "cell_type": "code",
   "execution_count": 168,
   "metadata": {},
   "outputs": [
    {
     "data": {
      "text/html": [
       "<table class=\"simpletable\">\n",
       "<caption>OLS Regression Results</caption>\n",
       "<tr>\n",
       "  <th>Dep. Variable:</th>            <td>y</td>        <th>  R-squared:         </th>  <td>   0.053</td>  \n",
       "</tr>\n",
       "<tr>\n",
       "  <th>Model:</th>                   <td>OLS</td>       <th>  Adj. R-squared:    </th>  <td>   0.053</td>  \n",
       "</tr>\n",
       "<tr>\n",
       "  <th>Method:</th>             <td>Least Squares</td>  <th>  F-statistic:       </th>  <td>1.434e+04</td> \n",
       "</tr>\n",
       "<tr>\n",
       "  <th>Date:</th>             <td>Sat, 24 Apr 2021</td> <th>  Prob (F-statistic):</th>   <td>  0.00</td>   \n",
       "</tr>\n",
       "<tr>\n",
       "  <th>Time:</th>                 <td>07:36:04</td>     <th>  Log-Likelihood:    </th> <td>-4.4098e+06</td>\n",
       "</tr>\n",
       "<tr>\n",
       "  <th>No. Observations:</th>      <td>1017209</td>     <th>  AIC:               </th>  <td>8.820e+06</td> \n",
       "</tr>\n",
       "<tr>\n",
       "  <th>Df Residuals:</th>          <td>1017204</td>     <th>  BIC:               </th>  <td>8.820e+06</td> \n",
       "</tr>\n",
       "<tr>\n",
       "  <th>Df Model:</th>              <td>     4</td>      <th>                     </th>      <td> </td>     \n",
       "</tr>\n",
       "<tr>\n",
       "  <th>Covariance Type:</th>      <td>nonrobust</td>    <th>                     </th>      <td> </td>     \n",
       "</tr>\n",
       "</table>\n",
       "<table class=\"simpletable\">\n",
       "<tr>\n",
       "      <td></td>         <th>coef</th>     <th>std err</th>      <th>t</th>      <th>P>|t|</th>  <th>[0.025</th>    <th>0.975]</th>  \n",
       "</tr>\n",
       "<tr>\n",
       "  <th>Intercept</th> <td>   14.0595</td> <td>    0.061</td> <td>  230.847</td> <td> 0.000</td> <td>   13.940</td> <td>   14.179</td>\n",
       "</tr>\n",
       "<tr>\n",
       "  <th>X[0]</th>      <td>    0.0010</td> <td> 5.69e-05</td> <td>   17.623</td> <td> 0.000</td> <td>    0.001</td> <td>    0.001</td>\n",
       "</tr>\n",
       "<tr>\n",
       "  <th>X[1]</th>      <td>    4.5579</td> <td>    0.041</td> <td>  111.088</td> <td> 0.000</td> <td>    4.477</td> <td>    4.638</td>\n",
       "</tr>\n",
       "<tr>\n",
       "  <th>X[2]</th>      <td>  -11.3501</td> <td>    0.107</td> <td> -106.385</td> <td> 0.000</td> <td>  -11.559</td> <td>  -11.141</td>\n",
       "</tr>\n",
       "<tr>\n",
       "  <th>X[3]</th>      <td>   -1.2694</td> <td>    0.010</td> <td> -127.051</td> <td> 0.000</td> <td>   -1.289</td> <td>   -1.250</td>\n",
       "</tr>\n",
       "</table>\n",
       "<table class=\"simpletable\">\n",
       "<tr>\n",
       "  <th>Omnibus:</th>       <td>1113182.394</td> <th>  Durbin-Watson:     </th>   <td>   0.503</td>   \n",
       "</tr>\n",
       "<tr>\n",
       "  <th>Prob(Omnibus):</th>   <td> 0.000</td>    <th>  Jarque-Bera (JB):  </th> <td>103143662.683</td>\n",
       "</tr>\n",
       "<tr>\n",
       "  <th>Skew:</th>            <td> 5.626</td>    <th>  Prob(JB):          </th>   <td>    0.00</td>   \n",
       "</tr>\n",
       "<tr>\n",
       "  <th>Kurtosis:</th>        <td>51.031</td>    <th>  Cond. No.          </th>   <td>3.77e+03</td>   \n",
       "</tr>\n",
       "</table><br/><br/>Warnings:<br/>[1] Standard Errors assume that the covariance matrix of the errors is correctly specified.<br/>[2] The condition number is large, 3.77e+03. This might indicate that there are<br/>strong multicollinearity or other numerical problems."
      ],
      "text/plain": [
       "<class 'statsmodels.iolib.summary.Summary'>\n",
       "\"\"\"\n",
       "                            OLS Regression Results                            \n",
       "==============================================================================\n",
       "Dep. Variable:                      y   R-squared:                       0.053\n",
       "Model:                            OLS   Adj. R-squared:                  0.053\n",
       "Method:                 Least Squares   F-statistic:                 1.434e+04\n",
       "Date:                Sat, 24 Apr 2021   Prob (F-statistic):               0.00\n",
       "Time:                        07:36:04   Log-Likelihood:            -4.4098e+06\n",
       "No. Observations:             1017209   AIC:                         8.820e+06\n",
       "Df Residuals:                 1017204   BIC:                         8.820e+06\n",
       "Df Model:                           4                                         \n",
       "Covariance Type:            nonrobust                                         \n",
       "==============================================================================\n",
       "                 coef    std err          t      P>|t|      [0.025      0.975]\n",
       "------------------------------------------------------------------------------\n",
       "Intercept     14.0595      0.061    230.847      0.000      13.940      14.179\n",
       "X[0]           0.0010   5.69e-05     17.623      0.000       0.001       0.001\n",
       "X[1]           4.5579      0.041    111.088      0.000       4.477       4.638\n",
       "X[2]         -11.3501      0.107   -106.385      0.000     -11.559     -11.141\n",
       "X[3]          -1.2694      0.010   -127.051      0.000      -1.289      -1.250\n",
       "==============================================================================\n",
       "Omnibus:                  1113182.394   Durbin-Watson:                   0.503\n",
       "Prob(Omnibus):                  0.000   Jarque-Bera (JB):        103143662.683\n",
       "Skew:                           5.626   Prob(JB):                         0.00\n",
       "Kurtosis:                      51.031   Cond. No.                     3.77e+03\n",
       "==============================================================================\n",
       "\n",
       "Warnings:\n",
       "[1] Standard Errors assume that the covariance matrix of the errors is correctly specified.\n",
       "[2] The condition number is large, 3.77e+03. This might indicate that there are\n",
       "strong multicollinearity or other numerical problems.\n",
       "\"\"\""
      ]
     },
     "execution_count": 168,
     "metadata": {},
     "output_type": "execute_result"
    }
   ],
   "source": [
    "# Summary\n",
    "ml1.summary()"
   ]
  },
  {
   "cell_type": "markdown",
   "metadata": {},
   "source": [
    "# P Value for all mine input Variables are less Than 0.05 only ,Hypothesis Also correct "
   ]
  },
  {
   "cell_type": "markdown",
   "metadata": {},
   "source": [
    "# Liner Regression "
   ]
  },
  {
   "cell_type": "code",
   "execution_count": 960,
   "metadata": {},
   "outputs": [],
   "source": [
    "from sklearn.linear_model import LinearRegression, Ridge, Lasso\n",
    "from sklearn.model_selection import train_test_split, cross_val_score\n",
    "from statistics import mean"
   ]
  },
  {
   "cell_type": "code",
   "execution_count": 793,
   "metadata": {},
   "outputs": [
    {
     "name": "stdout",
     "output_type": "stream",
     "text": [
      "0.05361665040382391\n"
     ]
    }
   ],
   "source": [
    "# Bulding and fitting the Linear Regression model\n",
    "linearModel = LinearRegression()\n",
    "linearModel.fit(X_train, y_train)\n",
    "  \n",
    "# Evaluating the Linear Regression model\n",
    "print(linearModel.score(X_test, y_test))"
   ]
  },
  {
   "cell_type": "code",
   "execution_count": 794,
   "metadata": {},
   "outputs": [
    {
     "name": "stdout",
     "output_type": "stream",
     "text": [
      "0.053616649935828264\n"
     ]
    }
   ],
   "source": [
    "# Building and fitting the Ridge Regression model\n",
    "ridgeModelChosen = Ridge(alpha = 2)\n",
    "ridgeModelChosen.fit(X_train, y_train)\n",
    "\n",
    "# Evaluating the Ridge Regression model\n",
    "print(ridgeModelChosen.score(X_test, y_test))\n"
   ]
  },
  {
   "cell_type": "markdown",
   "metadata": {},
   "source": [
    "# Linear Regression"
   ]
  },
  {
   "cell_type": "code",
   "execution_count": 795,
   "metadata": {},
   "outputs": [
    {
     "name": "stdout",
     "output_type": "stream",
     "text": [
      "-343.04608835492945\n"
     ]
    }
   ],
   "source": [
    "from sklearn.model_selection import cross_val_score\n",
    "from sklearn.linear_model import LinearRegression\n",
    "\n",
    "lin_regressor=LinearRegression()\n",
    "mse=cross_val_score(lin_regressor,X,y,scoring='neg_mean_squared_error',cv=5)\n",
    "mean_mse=np.mean(mse)\n",
    "print(mean_mse)"
   ]
  },
  {
   "cell_type": "markdown",
   "metadata": {},
   "source": [
    "# Ridge Regression "
   ]
  },
  {
   "cell_type": "code",
   "execution_count": 796,
   "metadata": {},
   "outputs": [
    {
     "data": {
      "text/plain": [
       "GridSearchCV(cv=5, error_score='raise-deprecating',\n",
       "             estimator=Ridge(alpha=1.0, copy_X=True, fit_intercept=True,\n",
       "                             max_iter=None, normalize=False, random_state=None,\n",
       "                             solver='auto', tol=0.001),\n",
       "             iid='warn', n_jobs=None,\n",
       "             param_grid={'alpha': [1e-15, 1e-10, 1e-08, 0.001, 0.01, 1, 5, 10,\n",
       "                                   20, 30, 35, 40, 45, 50, 55, 100]},\n",
       "             pre_dispatch='2*n_jobs', refit=True, return_train_score=False,\n",
       "             scoring='neg_mean_squared_error', verbose=0)"
      ]
     },
     "execution_count": 796,
     "metadata": {},
     "output_type": "execute_result"
    }
   ],
   "source": [
    "\n",
    "from sklearn.linear_model import Ridge\n",
    "from sklearn.model_selection import GridSearchCV\n",
    "\n",
    "ridge=Ridge()\n",
    "parameters={'alpha':[1e-15,1e-10,1e-8,1e-3,1e-2,1,5,10,20,30,35,40,45,50,55,100]}\n",
    "ridge_regressor=GridSearchCV(ridge,parameters,scoring='neg_mean_squared_error',cv=5)\n",
    "ridge_regressor.fit(X_train, y_train)"
   ]
  },
  {
   "cell_type": "code",
   "execution_count": 797,
   "metadata": {},
   "outputs": [
    {
     "name": "stdout",
     "output_type": "stream",
     "text": [
      "{'alpha': 1e-15}\n",
      "-341.4952292671016\n"
     ]
    }
   ],
   "source": [
    "print(ridge_regressor.best_params_)\n",
    "print(ridge_regressor.best_score_)"
   ]
  },
  {
   "cell_type": "markdown",
   "metadata": {},
   "source": [
    "# Lasso Regression"
   ]
  },
  {
   "cell_type": "code",
   "execution_count": 798,
   "metadata": {},
   "outputs": [
    {
     "name": "stdout",
     "output_type": "stream",
     "text": [
      "{'alpha': 1e-15}\n",
      "-343.046126439087\n"
     ]
    }
   ],
   "source": [
    "\n",
    "from sklearn.linear_model import Lasso\n",
    "from sklearn.model_selection import GridSearchCV\n",
    "lasso=Lasso()\n",
    "parameters={'alpha':[1e-15,1e-10,1e-8,1e-3,1e-2,1,5,10,20,30,35,40,45,50,55,100]}\n",
    "lasso_regressor=GridSearchCV(lasso,parameters,scoring='neg_mean_squared_error',cv=5)\n",
    "\n",
    "lasso_regressor.fit(X,y)\n",
    "print(lasso_regressor.best_params_)\n",
    "print(lasso_regressor.best_score_)"
   ]
  },
  {
   "cell_type": "code",
   "execution_count": 961,
   "metadata": {},
   "outputs": [
    {
     "data": {
      "text/html": [
       "<div>\n",
       "<style scoped>\n",
       "    .dataframe tbody tr th:only-of-type {\n",
       "        vertical-align: middle;\n",
       "    }\n",
       "\n",
       "    .dataframe tbody tr th {\n",
       "        vertical-align: top;\n",
       "    }\n",
       "\n",
       "    .dataframe thead th {\n",
       "        text-align: right;\n",
       "    }\n",
       "</style>\n",
       "<table border=\"1\" class=\"dataframe\">\n",
       "  <thead>\n",
       "    <tr style=\"text-align: right;\">\n",
       "      <th></th>\n",
       "      <th>product type</th>\n",
       "      <th>Promotion applied</th>\n",
       "      <th>Generic Holiday</th>\n",
       "      <th>DayOfWeek</th>\n",
       "    </tr>\n",
       "  </thead>\n",
       "  <tbody>\n",
       "    <tr>\n",
       "      <th>0</th>\n",
       "      <td>1</td>\n",
       "      <td>1</td>\n",
       "      <td>0</td>\n",
       "      <td>5</td>\n",
       "    </tr>\n",
       "    <tr>\n",
       "      <th>1</th>\n",
       "      <td>1</td>\n",
       "      <td>1</td>\n",
       "      <td>0</td>\n",
       "      <td>4</td>\n",
       "    </tr>\n",
       "    <tr>\n",
       "      <th>2</th>\n",
       "      <td>1</td>\n",
       "      <td>1</td>\n",
       "      <td>0</td>\n",
       "      <td>3</td>\n",
       "    </tr>\n",
       "    <tr>\n",
       "      <th>3</th>\n",
       "      <td>1</td>\n",
       "      <td>1</td>\n",
       "      <td>0</td>\n",
       "      <td>2</td>\n",
       "    </tr>\n",
       "    <tr>\n",
       "      <th>4</th>\n",
       "      <td>1</td>\n",
       "      <td>1</td>\n",
       "      <td>0</td>\n",
       "      <td>1</td>\n",
       "    </tr>\n",
       "    <tr>\n",
       "      <th>...</th>\n",
       "      <td>...</td>\n",
       "      <td>...</td>\n",
       "      <td>...</td>\n",
       "      <td>...</td>\n",
       "    </tr>\n",
       "    <tr>\n",
       "      <th>1017204</th>\n",
       "      <td>1115</td>\n",
       "      <td>0</td>\n",
       "      <td>0</td>\n",
       "      <td>6</td>\n",
       "    </tr>\n",
       "    <tr>\n",
       "      <th>1017205</th>\n",
       "      <td>1115</td>\n",
       "      <td>0</td>\n",
       "      <td>0</td>\n",
       "      <td>5</td>\n",
       "    </tr>\n",
       "    <tr>\n",
       "      <th>1017206</th>\n",
       "      <td>1115</td>\n",
       "      <td>0</td>\n",
       "      <td>0</td>\n",
       "      <td>4</td>\n",
       "    </tr>\n",
       "    <tr>\n",
       "      <th>1017207</th>\n",
       "      <td>1115</td>\n",
       "      <td>0</td>\n",
       "      <td>0</td>\n",
       "      <td>3</td>\n",
       "    </tr>\n",
       "    <tr>\n",
       "      <th>1017208</th>\n",
       "      <td>1115</td>\n",
       "      <td>0</td>\n",
       "      <td>1</td>\n",
       "      <td>2</td>\n",
       "    </tr>\n",
       "  </tbody>\n",
       "</table>\n",
       "<p>1017209 rows × 4 columns</p>\n",
       "</div>"
      ],
      "text/plain": [
       "         product type  Promotion applied  Generic Holiday  DayOfWeek\n",
       "0                   1                  1                0          5\n",
       "1                   1                  1                0          4\n",
       "2                   1                  1                0          3\n",
       "3                   1                  1                0          2\n",
       "4                   1                  1                0          1\n",
       "...               ...                ...              ...        ...\n",
       "1017204          1115                  0                0          6\n",
       "1017205          1115                  0                0          5\n",
       "1017206          1115                  0                0          4\n",
       "1017207          1115                  0                0          3\n",
       "1017208          1115                  0                1          2\n",
       "\n",
       "[1017209 rows x 4 columns]"
      ]
     },
     "execution_count": 961,
     "metadata": {},
     "output_type": "execute_result"
    }
   ],
   "source": [
    "X"
   ]
  },
  {
   "cell_type": "code",
   "execution_count": 169,
   "metadata": {},
   "outputs": [
    {
     "data": {
      "text/plain": [
       "Index(['product type', 'Promotion applied', 'Generic Holiday', 'DayOfWeek'], dtype='object')"
      ]
     },
     "execution_count": 169,
     "metadata": {},
     "output_type": "execute_result"
    }
   ],
   "source": [
    "X.columns"
   ]
  },
  {
   "cell_type": "code",
   "execution_count": 170,
   "metadata": {},
   "outputs": [],
   "source": [
    "X.rename({'product type': 'PRODUCT_TYPE', 'Promotion applied': 'PROMOTION_APPLIED',\"Generic Holiday\":\"GENERIC_HOLIDAY\",\"DayOfWeek\":\"DAY_OF_WEEK\"}, axis=1, inplace=True)"
   ]
  },
  {
   "cell_type": "code",
   "execution_count": 171,
   "metadata": {},
   "outputs": [
    {
     "data": {
      "text/html": [
       "<div>\n",
       "<style scoped>\n",
       "    .dataframe tbody tr th:only-of-type {\n",
       "        vertical-align: middle;\n",
       "    }\n",
       "\n",
       "    .dataframe tbody tr th {\n",
       "        vertical-align: top;\n",
       "    }\n",
       "\n",
       "    .dataframe thead th {\n",
       "        text-align: right;\n",
       "    }\n",
       "</style>\n",
       "<table border=\"1\" class=\"dataframe\">\n",
       "  <thead>\n",
       "    <tr style=\"text-align: right;\">\n",
       "      <th></th>\n",
       "      <th>PRODUCT_TYPE</th>\n",
       "      <th>PROMOTION_APPLIED</th>\n",
       "      <th>GENERIC_HOLIDAY</th>\n",
       "      <th>DAY_OF_WEEK</th>\n",
       "    </tr>\n",
       "  </thead>\n",
       "  <tbody>\n",
       "    <tr>\n",
       "      <th>0</th>\n",
       "      <td>1</td>\n",
       "      <td>1</td>\n",
       "      <td>0</td>\n",
       "      <td>5</td>\n",
       "    </tr>\n",
       "    <tr>\n",
       "      <th>1</th>\n",
       "      <td>1</td>\n",
       "      <td>1</td>\n",
       "      <td>0</td>\n",
       "      <td>4</td>\n",
       "    </tr>\n",
       "    <tr>\n",
       "      <th>2</th>\n",
       "      <td>1</td>\n",
       "      <td>1</td>\n",
       "      <td>0</td>\n",
       "      <td>3</td>\n",
       "    </tr>\n",
       "    <tr>\n",
       "      <th>3</th>\n",
       "      <td>1</td>\n",
       "      <td>1</td>\n",
       "      <td>0</td>\n",
       "      <td>2</td>\n",
       "    </tr>\n",
       "    <tr>\n",
       "      <th>4</th>\n",
       "      <td>1</td>\n",
       "      <td>1</td>\n",
       "      <td>0</td>\n",
       "      <td>1</td>\n",
       "    </tr>\n",
       "    <tr>\n",
       "      <th>...</th>\n",
       "      <td>...</td>\n",
       "      <td>...</td>\n",
       "      <td>...</td>\n",
       "      <td>...</td>\n",
       "    </tr>\n",
       "    <tr>\n",
       "      <th>1017204</th>\n",
       "      <td>1115</td>\n",
       "      <td>0</td>\n",
       "      <td>0</td>\n",
       "      <td>6</td>\n",
       "    </tr>\n",
       "    <tr>\n",
       "      <th>1017205</th>\n",
       "      <td>1115</td>\n",
       "      <td>0</td>\n",
       "      <td>0</td>\n",
       "      <td>5</td>\n",
       "    </tr>\n",
       "    <tr>\n",
       "      <th>1017206</th>\n",
       "      <td>1115</td>\n",
       "      <td>0</td>\n",
       "      <td>0</td>\n",
       "      <td>4</td>\n",
       "    </tr>\n",
       "    <tr>\n",
       "      <th>1017207</th>\n",
       "      <td>1115</td>\n",
       "      <td>0</td>\n",
       "      <td>0</td>\n",
       "      <td>3</td>\n",
       "    </tr>\n",
       "    <tr>\n",
       "      <th>1017208</th>\n",
       "      <td>1115</td>\n",
       "      <td>0</td>\n",
       "      <td>1</td>\n",
       "      <td>2</td>\n",
       "    </tr>\n",
       "  </tbody>\n",
       "</table>\n",
       "<p>1017209 rows × 4 columns</p>\n",
       "</div>"
      ],
      "text/plain": [
       "         PRODUCT_TYPE  PROMOTION_APPLIED  GENERIC_HOLIDAY  DAY_OF_WEEK\n",
       "0                   1                  1                0            5\n",
       "1                   1                  1                0            4\n",
       "2                   1                  1                0            3\n",
       "3                   1                  1                0            2\n",
       "4                   1                  1                0            1\n",
       "...               ...                ...              ...          ...\n",
       "1017204          1115                  0                0            6\n",
       "1017205          1115                  0                0            5\n",
       "1017206          1115                  0                0            4\n",
       "1017207          1115                  0                0            3\n",
       "1017208          1115                  0                1            2\n",
       "\n",
       "[1017209 rows x 4 columns]"
      ]
     },
     "execution_count": 171,
     "metadata": {},
     "output_type": "execute_result"
    }
   ],
   "source": [
    "X"
   ]
  },
  {
   "cell_type": "code",
   "execution_count": 172,
   "metadata": {},
   "outputs": [],
   "source": [
    "from sklearn.model_selection import train_test_split\n",
    "X_train, X_test, y_train, y_test = train_test_split(X, y, test_size=0.3, random_state=0)"
   ]
  },
  {
   "cell_type": "markdown",
   "metadata": {},
   "source": [
    "# Random Forest Regressor "
   ]
  },
  {
   "cell_type": "code",
   "execution_count": 173,
   "metadata": {},
   "outputs": [],
   "source": [
    "from sklearn.ensemble import RandomForestRegressor\n",
    "reg_rf = RandomForestRegressor()"
   ]
  },
  {
   "cell_type": "markdown",
   "metadata": {},
   "source": [
    "# Hyper Parameter Tuning "
   ]
  },
  {
   "cell_type": "code",
   "execution_count": 174,
   "metadata": {},
   "outputs": [],
   "source": [
    "from sklearn.model_selection import RandomizedSearchCV\n"
   ]
  },
  {
   "cell_type": "code",
   "execution_count": 175,
   "metadata": {},
   "outputs": [],
   "source": [
    "#Randomized Search CV\n",
    "\n",
    "# Number of trees in random forest\n",
    "n_estimators = [int(df_r) for df_r in np.linspace(start = 10, stop = 30, num = 12)]\n",
    "# Number of features to consider at every split\n",
    "max_features = ['auto', 'sqrt']\n",
    "# Maximum number of levels in tree\n",
    "max_depth = [int(df_r) for df_r in np.linspace(5, 30, num = 6)]\n",
    "# Minimum number of samples required to split a node\n",
    "min_samples_split = [2, 5, 10, 15, 100]\n",
    "# Minimum number of samples required at each leaf node\n",
    "min_samples_leaf = [1, 2, 5, 10]"
   ]
  },
  {
   "cell_type": "code",
   "execution_count": 176,
   "metadata": {},
   "outputs": [],
   "source": [
    "# Create the random grid\n",
    "\n",
    "random_grid = {'n_estimators': n_estimators,\n",
    "               'max_features': max_features,\n",
    "               'max_depth': max_depth,\n",
    "               'min_samples_split': min_samples_split,\n",
    "               'min_samples_leaf': min_samples_leaf}"
   ]
  },
  {
   "cell_type": "code",
   "execution_count": 177,
   "metadata": {},
   "outputs": [],
   "source": [
    "# Random search of parameters, using 5 fold cross validation, \n",
    "# search across 100 different combinations\n",
    "rf_random = RandomizedSearchCV(estimator = reg_rf, param_distributions = random_grid,scoring='neg_mean_squared_error', n_iter = 10, cv = 5, verbose=2, random_state=42, n_jobs = 1)"
   ]
  },
  {
   "cell_type": "code",
   "execution_count": 178,
   "metadata": {},
   "outputs": [
    {
     "name": "stdout",
     "output_type": "stream",
     "text": [
      "Fitting 5 folds for each of 10 candidates, totalling 50 fits\n",
      "[CV] n_estimators=24, min_samples_split=5, min_samples_leaf=5, max_features=sqrt, max_depth=10 \n"
     ]
    },
    {
     "name": "stderr",
     "output_type": "stream",
     "text": [
      "[Parallel(n_jobs=1)]: Using backend SequentialBackend with 1 concurrent workers.\n"
     ]
    },
    {
     "name": "stdout",
     "output_type": "stream",
     "text": [
      "[CV]  n_estimators=24, min_samples_split=5, min_samples_leaf=5, max_features=sqrt, max_depth=10, total=  18.8s\n",
      "[CV] n_estimators=24, min_samples_split=5, min_samples_leaf=5, max_features=sqrt, max_depth=10 \n"
     ]
    },
    {
     "name": "stderr",
     "output_type": "stream",
     "text": [
      "[Parallel(n_jobs=1)]: Done   1 out of   1 | elapsed:   18.8s remaining:    0.0s\n"
     ]
    },
    {
     "name": "stdout",
     "output_type": "stream",
     "text": [
      "[CV]  n_estimators=24, min_samples_split=5, min_samples_leaf=5, max_features=sqrt, max_depth=10, total=  19.8s\n",
      "[CV] n_estimators=24, min_samples_split=5, min_samples_leaf=5, max_features=sqrt, max_depth=10 \n",
      "[CV]  n_estimators=24, min_samples_split=5, min_samples_leaf=5, max_features=sqrt, max_depth=10, total=  20.9s\n",
      "[CV] n_estimators=24, min_samples_split=5, min_samples_leaf=5, max_features=sqrt, max_depth=10 \n",
      "[CV]  n_estimators=24, min_samples_split=5, min_samples_leaf=5, max_features=sqrt, max_depth=10, total=  18.5s\n",
      "[CV] n_estimators=24, min_samples_split=5, min_samples_leaf=5, max_features=sqrt, max_depth=10 \n",
      "[CV]  n_estimators=24, min_samples_split=5, min_samples_leaf=5, max_features=sqrt, max_depth=10, total=  18.9s\n",
      "[CV] n_estimators=28, min_samples_split=10, min_samples_leaf=2, max_features=sqrt, max_depth=15 \n",
      "[CV]  n_estimators=28, min_samples_split=10, min_samples_leaf=2, max_features=sqrt, max_depth=15, total=  32.0s\n",
      "[CV] n_estimators=28, min_samples_split=10, min_samples_leaf=2, max_features=sqrt, max_depth=15 \n",
      "[CV]  n_estimators=28, min_samples_split=10, min_samples_leaf=2, max_features=sqrt, max_depth=15, total=  31.5s\n",
      "[CV] n_estimators=28, min_samples_split=10, min_samples_leaf=2, max_features=sqrt, max_depth=15 \n",
      "[CV]  n_estimators=28, min_samples_split=10, min_samples_leaf=2, max_features=sqrt, max_depth=15, total=  30.0s\n",
      "[CV] n_estimators=28, min_samples_split=10, min_samples_leaf=2, max_features=sqrt, max_depth=15 \n",
      "[CV]  n_estimators=28, min_samples_split=10, min_samples_leaf=2, max_features=sqrt, max_depth=15, total=  28.1s\n",
      "[CV] n_estimators=28, min_samples_split=10, min_samples_leaf=2, max_features=sqrt, max_depth=15 \n",
      "[CV]  n_estimators=28, min_samples_split=10, min_samples_leaf=2, max_features=sqrt, max_depth=15, total=  27.9s\n",
      "[CV] n_estimators=13, min_samples_split=100, min_samples_leaf=5, max_features=auto, max_depth=15 \n",
      "[CV]  n_estimators=13, min_samples_split=100, min_samples_leaf=5, max_features=auto, max_depth=15, total=  15.1s\n",
      "[CV] n_estimators=13, min_samples_split=100, min_samples_leaf=5, max_features=auto, max_depth=15 \n",
      "[CV]  n_estimators=13, min_samples_split=100, min_samples_leaf=5, max_features=auto, max_depth=15, total=  15.0s\n",
      "[CV] n_estimators=13, min_samples_split=100, min_samples_leaf=5, max_features=auto, max_depth=15 \n",
      "[CV]  n_estimators=13, min_samples_split=100, min_samples_leaf=5, max_features=auto, max_depth=15, total=  15.2s\n",
      "[CV] n_estimators=13, min_samples_split=100, min_samples_leaf=5, max_features=auto, max_depth=15 \n",
      "[CV]  n_estimators=13, min_samples_split=100, min_samples_leaf=5, max_features=auto, max_depth=15, total=  15.4s\n",
      "[CV] n_estimators=13, min_samples_split=100, min_samples_leaf=5, max_features=auto, max_depth=15 \n",
      "[CV]  n_estimators=13, min_samples_split=100, min_samples_leaf=5, max_features=auto, max_depth=15, total=  15.2s\n",
      "[CV] n_estimators=15, min_samples_split=5, min_samples_leaf=5, max_features=auto, max_depth=15 \n",
      "[CV]  n_estimators=15, min_samples_split=5, min_samples_leaf=5, max_features=auto, max_depth=15, total=  17.2s\n",
      "[CV] n_estimators=15, min_samples_split=5, min_samples_leaf=5, max_features=auto, max_depth=15 \n",
      "[CV]  n_estimators=15, min_samples_split=5, min_samples_leaf=5, max_features=auto, max_depth=15, total=  17.2s\n",
      "[CV] n_estimators=15, min_samples_split=5, min_samples_leaf=5, max_features=auto, max_depth=15 \n",
      "[CV]  n_estimators=15, min_samples_split=5, min_samples_leaf=5, max_features=auto, max_depth=15, total=  17.2s\n",
      "[CV] n_estimators=15, min_samples_split=5, min_samples_leaf=5, max_features=auto, max_depth=15 \n",
      "[CV]  n_estimators=15, min_samples_split=5, min_samples_leaf=5, max_features=auto, max_depth=15, total=  17.3s\n",
      "[CV] n_estimators=15, min_samples_split=5, min_samples_leaf=5, max_features=auto, max_depth=15 \n",
      "[CV]  n_estimators=15, min_samples_split=5, min_samples_leaf=5, max_features=auto, max_depth=15, total=  17.5s\n",
      "[CV] n_estimators=20, min_samples_split=5, min_samples_leaf=10, max_features=auto, max_depth=20 \n",
      "[CV]  n_estimators=20, min_samples_split=5, min_samples_leaf=10, max_features=auto, max_depth=20, total=  28.1s\n",
      "[CV] n_estimators=20, min_samples_split=5, min_samples_leaf=10, max_features=auto, max_depth=20 \n",
      "[CV]  n_estimators=20, min_samples_split=5, min_samples_leaf=10, max_features=auto, max_depth=20, total=  26.2s\n",
      "[CV] n_estimators=20, min_samples_split=5, min_samples_leaf=10, max_features=auto, max_depth=20 \n",
      "[CV]  n_estimators=20, min_samples_split=5, min_samples_leaf=10, max_features=auto, max_depth=20, total=  26.6s\n",
      "[CV] n_estimators=20, min_samples_split=5, min_samples_leaf=10, max_features=auto, max_depth=20 \n",
      "[CV]  n_estimators=20, min_samples_split=5, min_samples_leaf=10, max_features=auto, max_depth=20, total=  26.4s\n",
      "[CV] n_estimators=20, min_samples_split=5, min_samples_leaf=10, max_features=auto, max_depth=20 \n",
      "[CV]  n_estimators=20, min_samples_split=5, min_samples_leaf=10, max_features=auto, max_depth=20, total=  26.5s\n",
      "[CV] n_estimators=26, min_samples_split=2, min_samples_leaf=1, max_features=sqrt, max_depth=25 \n",
      "[CV]  n_estimators=26, min_samples_split=2, min_samples_leaf=1, max_features=sqrt, max_depth=25, total=  32.2s\n",
      "[CV] n_estimators=26, min_samples_split=2, min_samples_leaf=1, max_features=sqrt, max_depth=25 \n",
      "[CV]  n_estimators=26, min_samples_split=2, min_samples_leaf=1, max_features=sqrt, max_depth=25, total=  33.0s\n",
      "[CV] n_estimators=26, min_samples_split=2, min_samples_leaf=1, max_features=sqrt, max_depth=25 \n",
      "[CV]  n_estimators=26, min_samples_split=2, min_samples_leaf=1, max_features=sqrt, max_depth=25, total=  32.2s\n",
      "[CV] n_estimators=26, min_samples_split=2, min_samples_leaf=1, max_features=sqrt, max_depth=25 \n",
      "[CV]  n_estimators=26, min_samples_split=2, min_samples_leaf=1, max_features=sqrt, max_depth=25, total=  32.6s\n",
      "[CV] n_estimators=26, min_samples_split=2, min_samples_leaf=1, max_features=sqrt, max_depth=25 \n",
      "[CV]  n_estimators=26, min_samples_split=2, min_samples_leaf=1, max_features=sqrt, max_depth=25, total=  32.8s\n",
      "[CV] n_estimators=28, min_samples_split=15, min_samples_leaf=10, max_features=sqrt, max_depth=5 \n",
      "[CV]  n_estimators=28, min_samples_split=15, min_samples_leaf=10, max_features=sqrt, max_depth=5, total=  10.1s\n",
      "[CV] n_estimators=28, min_samples_split=15, min_samples_leaf=10, max_features=sqrt, max_depth=5 \n",
      "[CV]  n_estimators=28, min_samples_split=15, min_samples_leaf=10, max_features=sqrt, max_depth=5, total=  10.6s\n",
      "[CV] n_estimators=28, min_samples_split=15, min_samples_leaf=10, max_features=sqrt, max_depth=5 \n",
      "[CV]  n_estimators=28, min_samples_split=15, min_samples_leaf=10, max_features=sqrt, max_depth=5, total=  10.2s\n",
      "[CV] n_estimators=28, min_samples_split=15, min_samples_leaf=10, max_features=sqrt, max_depth=5 \n",
      "[CV]  n_estimators=28, min_samples_split=15, min_samples_leaf=10, max_features=sqrt, max_depth=5, total=  10.4s\n",
      "[CV] n_estimators=28, min_samples_split=15, min_samples_leaf=10, max_features=sqrt, max_depth=5 \n",
      "[CV]  n_estimators=28, min_samples_split=15, min_samples_leaf=10, max_features=sqrt, max_depth=5, total=  10.2s\n",
      "[CV] n_estimators=13, min_samples_split=15, min_samples_leaf=1, max_features=sqrt, max_depth=15 \n",
      "[CV]  n_estimators=13, min_samples_split=15, min_samples_leaf=1, max_features=sqrt, max_depth=15, total=  13.2s\n",
      "[CV] n_estimators=13, min_samples_split=15, min_samples_leaf=1, max_features=sqrt, max_depth=15 \n",
      "[CV]  n_estimators=13, min_samples_split=15, min_samples_leaf=1, max_features=sqrt, max_depth=15, total=  13.3s\n",
      "[CV] n_estimators=13, min_samples_split=15, min_samples_leaf=1, max_features=sqrt, max_depth=15 \n",
      "[CV]  n_estimators=13, min_samples_split=15, min_samples_leaf=1, max_features=sqrt, max_depth=15, total=  13.1s\n",
      "[CV] n_estimators=13, min_samples_split=15, min_samples_leaf=1, max_features=sqrt, max_depth=15 \n",
      "[CV]  n_estimators=13, min_samples_split=15, min_samples_leaf=1, max_features=sqrt, max_depth=15, total=  13.4s\n",
      "[CV] n_estimators=13, min_samples_split=15, min_samples_leaf=1, max_features=sqrt, max_depth=15 \n",
      "[CV]  n_estimators=13, min_samples_split=15, min_samples_leaf=1, max_features=sqrt, max_depth=15, total=  13.1s\n",
      "[CV] n_estimators=20, min_samples_split=10, min_samples_leaf=2, max_features=sqrt, max_depth=5 \n",
      "[CV]  n_estimators=20, min_samples_split=10, min_samples_leaf=2, max_features=sqrt, max_depth=5, total=   7.3s\n",
      "[CV] n_estimators=20, min_samples_split=10, min_samples_leaf=2, max_features=sqrt, max_depth=5 \n"
     ]
    },
    {
     "name": "stdout",
     "output_type": "stream",
     "text": [
      "[CV]  n_estimators=20, min_samples_split=10, min_samples_leaf=2, max_features=sqrt, max_depth=5, total=   7.6s\n",
      "[CV] n_estimators=20, min_samples_split=10, min_samples_leaf=2, max_features=sqrt, max_depth=5 \n",
      "[CV]  n_estimators=20, min_samples_split=10, min_samples_leaf=2, max_features=sqrt, max_depth=5, total=   7.3s\n",
      "[CV] n_estimators=20, min_samples_split=10, min_samples_leaf=2, max_features=sqrt, max_depth=5 \n",
      "[CV]  n_estimators=20, min_samples_split=10, min_samples_leaf=2, max_features=sqrt, max_depth=5, total=   7.5s\n",
      "[CV] n_estimators=20, min_samples_split=10, min_samples_leaf=2, max_features=sqrt, max_depth=5 \n",
      "[CV]  n_estimators=20, min_samples_split=10, min_samples_leaf=2, max_features=sqrt, max_depth=5, total=   7.4s\n",
      "[CV] n_estimators=20, min_samples_split=15, min_samples_leaf=1, max_features=auto, max_depth=20 \n",
      "[CV]  n_estimators=20, min_samples_split=15, min_samples_leaf=1, max_features=auto, max_depth=20, total=  26.5s\n",
      "[CV] n_estimators=20, min_samples_split=15, min_samples_leaf=1, max_features=auto, max_depth=20 \n",
      "[CV]  n_estimators=20, min_samples_split=15, min_samples_leaf=1, max_features=auto, max_depth=20, total=  26.4s\n",
      "[CV] n_estimators=20, min_samples_split=15, min_samples_leaf=1, max_features=auto, max_depth=20 \n",
      "[CV]  n_estimators=20, min_samples_split=15, min_samples_leaf=1, max_features=auto, max_depth=20, total=  26.6s\n",
      "[CV] n_estimators=20, min_samples_split=15, min_samples_leaf=1, max_features=auto, max_depth=20 \n",
      "[CV]  n_estimators=20, min_samples_split=15, min_samples_leaf=1, max_features=auto, max_depth=20, total=  26.7s\n",
      "[CV] n_estimators=20, min_samples_split=15, min_samples_leaf=1, max_features=auto, max_depth=20 \n",
      "[CV]  n_estimators=20, min_samples_split=15, min_samples_leaf=1, max_features=auto, max_depth=20, total=  27.0s\n"
     ]
    },
    {
     "name": "stderr",
     "output_type": "stream",
     "text": [
      "[Parallel(n_jobs=1)]: Done  50 out of  50 | elapsed: 16.6min finished\n"
     ]
    },
    {
     "data": {
      "text/plain": [
       "RandomizedSearchCV(cv=5, error_score='raise-deprecating',\n",
       "                   estimator=RandomForestRegressor(bootstrap=True,\n",
       "                                                   criterion='mse',\n",
       "                                                   max_depth=None,\n",
       "                                                   max_features='auto',\n",
       "                                                   max_leaf_nodes=None,\n",
       "                                                   min_impurity_decrease=0.0,\n",
       "                                                   min_impurity_split=None,\n",
       "                                                   min_samples_leaf=1,\n",
       "                                                   min_samples_split=2,\n",
       "                                                   min_weight_fraction_leaf=0.0,\n",
       "                                                   n_estimators='warn',\n",
       "                                                   n_jobs=None, oob_score=False,\n",
       "                                                   random_sta...\n",
       "                   iid='warn', n_iter=10, n_jobs=1,\n",
       "                   param_distributions={'max_depth': [5, 10, 15, 20, 25, 30],\n",
       "                                        'max_features': ['auto', 'sqrt'],\n",
       "                                        'min_samples_leaf': [1, 2, 5, 10],\n",
       "                                        'min_samples_split': [2, 5, 10, 15,\n",
       "                                                              100],\n",
       "                                        'n_estimators': [10, 11, 13, 15, 17, 19,\n",
       "                                                         20, 22, 24, 26, 28,\n",
       "                                                         30]},\n",
       "                   pre_dispatch='2*n_jobs', random_state=42, refit=True,\n",
       "                   return_train_score=False, scoring='neg_mean_squared_error',\n",
       "                   verbose=2)"
      ]
     },
     "execution_count": 178,
     "metadata": {},
     "output_type": "execute_result"
    }
   ],
   "source": [
    "rf_random.fit(X_train,y_train)"
   ]
  },
  {
   "cell_type": "code",
   "execution_count": 179,
   "metadata": {},
   "outputs": [
    {
     "data": {
      "text/plain": [
       "{'n_estimators': 26,\n",
       " 'min_samples_split': 2,\n",
       " 'min_samples_leaf': 1,\n",
       " 'max_features': 'sqrt',\n",
       " 'max_depth': 25}"
      ]
     },
     "execution_count": 179,
     "metadata": {},
     "output_type": "execute_result"
    }
   ],
   "source": [
    "rf_random.best_params_"
   ]
  },
  {
   "cell_type": "code",
   "execution_count": 180,
   "metadata": {},
   "outputs": [],
   "source": [
    "p=rf_random.predict(X_test)"
   ]
  },
  {
   "cell_type": "code",
   "execution_count": 181,
   "metadata": {},
   "outputs": [],
   "source": [
    "import sklearn.metrics as metrics"
   ]
  },
  {
   "cell_type": "code",
   "execution_count": 182,
   "metadata": {
    "scrolled": true
   },
   "outputs": [
    {
     "data": {
      "text/plain": [
       "0.8957177193701146"
      ]
     },
     "execution_count": 182,
     "metadata": {},
     "output_type": "execute_result"
    }
   ],
   "source": [
    "metrics.r2_score(y_test,p)"
   ]
  },
  {
   "cell_type": "code",
   "execution_count": 183,
   "metadata": {},
   "outputs": [
    {
     "name": "stdout",
     "output_type": "stream",
     "text": [
      "MAE: 2.499656539198858\n",
      "MSE: 38.17446710266259\n",
      "RMSE: 6.178548947986298\n"
     ]
    }
   ],
   "source": [
    "print('MAE:', metrics.mean_absolute_error(y_test,p))\n",
    "print('MSE:', metrics.mean_squared_error(y_test,p))\n",
    "print('RMSE:', np.sqrt(metrics.mean_squared_error(y_test,p)))"
   ]
  },
  {
   "cell_type": "code",
   "execution_count": 184,
   "metadata": {},
   "outputs": [
    {
     "data": {
      "text/html": [
       "<div>\n",
       "<style scoped>\n",
       "    .dataframe tbody tr th:only-of-type {\n",
       "        vertical-align: middle;\n",
       "    }\n",
       "\n",
       "    .dataframe tbody tr th {\n",
       "        vertical-align: top;\n",
       "    }\n",
       "\n",
       "    .dataframe thead th {\n",
       "        text-align: right;\n",
       "    }\n",
       "</style>\n",
       "<table border=\"1\" class=\"dataframe\">\n",
       "  <thead>\n",
       "    <tr style=\"text-align: right;\">\n",
       "      <th></th>\n",
       "      <th>Actual</th>\n",
       "      <th>Predicted</th>\n",
       "    </tr>\n",
       "  </thead>\n",
       "  <tbody>\n",
       "    <tr>\n",
       "      <th>982497</th>\n",
       "      <td>8.775610</td>\n",
       "      <td>7.020334</td>\n",
       "    </tr>\n",
       "    <tr>\n",
       "      <th>719065</th>\n",
       "      <td>3.685232</td>\n",
       "      <td>6.734066</td>\n",
       "    </tr>\n",
       "    <tr>\n",
       "      <th>145542</th>\n",
       "      <td>11.556863</td>\n",
       "      <td>13.544341</td>\n",
       "    </tr>\n",
       "    <tr>\n",
       "      <th>252177</th>\n",
       "      <td>19.361757</td>\n",
       "      <td>19.522861</td>\n",
       "    </tr>\n",
       "    <tr>\n",
       "      <th>479489</th>\n",
       "      <td>0.000000</td>\n",
       "      <td>0.000000</td>\n",
       "    </tr>\n",
       "    <tr>\n",
       "      <th>842412</th>\n",
       "      <td>4.251752</td>\n",
       "      <td>6.451515</td>\n",
       "    </tr>\n",
       "    <tr>\n",
       "      <th>73679</th>\n",
       "      <td>8.067647</td>\n",
       "      <td>9.350893</td>\n",
       "    </tr>\n",
       "    <tr>\n",
       "      <th>1006795</th>\n",
       "      <td>7.411417</td>\n",
       "      <td>8.793436</td>\n",
       "    </tr>\n",
       "    <tr>\n",
       "      <th>191879</th>\n",
       "      <td>25.107143</td>\n",
       "      <td>28.352838</td>\n",
       "    </tr>\n",
       "    <tr>\n",
       "      <th>641675</th>\n",
       "      <td>10.659051</td>\n",
       "      <td>10.723881</td>\n",
       "    </tr>\n",
       "    <tr>\n",
       "      <th>211430</th>\n",
       "      <td>0.000000</td>\n",
       "      <td>0.000000</td>\n",
       "    </tr>\n",
       "    <tr>\n",
       "      <th>191734</th>\n",
       "      <td>0.000000</td>\n",
       "      <td>0.000000</td>\n",
       "    </tr>\n",
       "    <tr>\n",
       "      <th>246207</th>\n",
       "      <td>13.653989</td>\n",
       "      <td>12.430224</td>\n",
       "    </tr>\n",
       "    <tr>\n",
       "      <th>247074</th>\n",
       "      <td>2.002620</td>\n",
       "      <td>2.325501</td>\n",
       "    </tr>\n",
       "    <tr>\n",
       "      <th>502686</th>\n",
       "      <td>5.412508</td>\n",
       "      <td>10.167726</td>\n",
       "    </tr>\n",
       "    <tr>\n",
       "      <th>469838</th>\n",
       "      <td>0.000000</td>\n",
       "      <td>0.000000</td>\n",
       "    </tr>\n",
       "    <tr>\n",
       "      <th>380174</th>\n",
       "      <td>0.000000</td>\n",
       "      <td>0.000000</td>\n",
       "    </tr>\n",
       "    <tr>\n",
       "      <th>118712</th>\n",
       "      <td>0.000000</td>\n",
       "      <td>0.000000</td>\n",
       "    </tr>\n",
       "    <tr>\n",
       "      <th>615424</th>\n",
       "      <td>38.980583</td>\n",
       "      <td>13.602632</td>\n",
       "    </tr>\n",
       "    <tr>\n",
       "      <th>32086</th>\n",
       "      <td>11.530075</td>\n",
       "      <td>15.028727</td>\n",
       "    </tr>\n",
       "    <tr>\n",
       "      <th>879181</th>\n",
       "      <td>20.996350</td>\n",
       "      <td>20.275945</td>\n",
       "    </tr>\n",
       "    <tr>\n",
       "      <th>445300</th>\n",
       "      <td>0.000000</td>\n",
       "      <td>0.000000</td>\n",
       "    </tr>\n",
       "    <tr>\n",
       "      <th>292078</th>\n",
       "      <td>5.340488</td>\n",
       "      <td>5.696565</td>\n",
       "    </tr>\n",
       "    <tr>\n",
       "      <th>702793</th>\n",
       "      <td>13.502058</td>\n",
       "      <td>14.026480</td>\n",
       "    </tr>\n",
       "    <tr>\n",
       "      <th>495207</th>\n",
       "      <td>7.735952</td>\n",
       "      <td>10.287654</td>\n",
       "    </tr>\n",
       "    <tr>\n",
       "      <th>140290</th>\n",
       "      <td>0.000000</td>\n",
       "      <td>0.000000</td>\n",
       "    </tr>\n",
       "    <tr>\n",
       "      <th>97976</th>\n",
       "      <td>7.567725</td>\n",
       "      <td>6.928599</td>\n",
       "    </tr>\n",
       "    <tr>\n",
       "      <th>109040</th>\n",
       "      <td>5.886213</td>\n",
       "      <td>6.178279</td>\n",
       "    </tr>\n",
       "    <tr>\n",
       "      <th>398478</th>\n",
       "      <td>3.538151</td>\n",
       "      <td>5.281390</td>\n",
       "    </tr>\n",
       "    <tr>\n",
       "      <th>796948</th>\n",
       "      <td>0.000000</td>\n",
       "      <td>0.000000</td>\n",
       "    </tr>\n",
       "  </tbody>\n",
       "</table>\n",
       "</div>"
      ],
      "text/plain": [
       "            Actual  Predicted\n",
       "982497    8.775610   7.020334\n",
       "719065    3.685232   6.734066\n",
       "145542   11.556863  13.544341\n",
       "252177   19.361757  19.522861\n",
       "479489    0.000000   0.000000\n",
       "842412    4.251752   6.451515\n",
       "73679     8.067647   9.350893\n",
       "1006795   7.411417   8.793436\n",
       "191879   25.107143  28.352838\n",
       "641675   10.659051  10.723881\n",
       "211430    0.000000   0.000000\n",
       "191734    0.000000   0.000000\n",
       "246207   13.653989  12.430224\n",
       "247074    2.002620   2.325501\n",
       "502686    5.412508  10.167726\n",
       "469838    0.000000   0.000000\n",
       "380174    0.000000   0.000000\n",
       "118712    0.000000   0.000000\n",
       "615424   38.980583  13.602632\n",
       "32086    11.530075  15.028727\n",
       "879181   20.996350  20.275945\n",
       "445300    0.000000   0.000000\n",
       "292078    5.340488   5.696565\n",
       "702793   13.502058  14.026480\n",
       "495207    7.735952  10.287654\n",
       "140290    0.000000   0.000000\n",
       "97976     7.567725   6.928599\n",
       "109040    5.886213   6.178279\n",
       "398478    3.538151   5.281390\n",
       "796948    0.000000   0.000000"
      ]
     },
     "execution_count": 184,
     "metadata": {},
     "output_type": "execute_result"
    }
   ],
   "source": [
    "zz=pd.DataFrame({'Actual':y_test,'Predicted':p})\n",
    "zz.head(30)"
   ]
  },
  {
   "cell_type": "markdown",
   "metadata": {},
   "source": [
    "# Grdient Boosting Regressor "
   ]
  },
  {
   "cell_type": "code",
   "execution_count": 185,
   "metadata": {},
   "outputs": [],
   "source": [
    "from sklearn.ensemble import GradientBoostingRegressor"
   ]
  },
  {
   "cell_type": "code",
   "execution_count": 186,
   "metadata": {},
   "outputs": [],
   "source": [
    "from sklearn.ensemble import GradientBoostingRegressor"
   ]
  },
  {
   "cell_type": "code",
   "execution_count": 187,
   "metadata": {},
   "outputs": [],
   "source": [
    "params={\"n_estimators\":150,\"max_depth\":4,\"learning_rate\":1,\"criterion\":\"mse\"}\n",
    "gradient_boosting_regressor_model=GradientBoostingRegressor(**params)\n"
   ]
  },
  {
   "cell_type": "code",
   "execution_count": 188,
   "metadata": {},
   "outputs": [
    {
     "data": {
      "text/plain": [
       "GradientBoostingRegressor(alpha=0.9, criterion='mse', init=None,\n",
       "                          learning_rate=1, loss='ls', max_depth=4,\n",
       "                          max_features=None, max_leaf_nodes=None,\n",
       "                          min_impurity_decrease=0.0, min_impurity_split=None,\n",
       "                          min_samples_leaf=1, min_samples_split=2,\n",
       "                          min_weight_fraction_leaf=0.0, n_estimators=150,\n",
       "                          n_iter_no_change=None, presort='auto',\n",
       "                          random_state=None, subsample=1.0, tol=0.0001,\n",
       "                          validation_fraction=0.1, verbose=0, warm_start=False)"
      ]
     },
     "execution_count": 188,
     "metadata": {},
     "output_type": "execute_result"
    }
   ],
   "source": [
    "gradient_boosting_regressor_model.fit(X_train,y_train)"
   ]
  },
  {
   "cell_type": "code",
   "execution_count": 189,
   "metadata": {},
   "outputs": [],
   "source": [
    "PRED=gradient_boosting_regressor_model.predict(X_test)"
   ]
  },
  {
   "cell_type": "code",
   "execution_count": 190,
   "metadata": {},
   "outputs": [
    {
     "data": {
      "text/plain": [
       "0.9172009174003273"
      ]
     },
     "execution_count": 190,
     "metadata": {},
     "output_type": "execute_result"
    }
   ],
   "source": [
    "metrics.r2_score(y_test,PRED)"
   ]
  },
  {
   "cell_type": "code",
   "execution_count": 191,
   "metadata": {},
   "outputs": [
    {
     "name": "stdout",
     "output_type": "stream",
     "text": [
      "0.9166740887042673\n"
     ]
    }
   ],
   "source": [
    "print(gradient_boosting_regressor_model.score(X_train,y_train))"
   ]
  },
  {
   "cell_type": "code",
   "execution_count": 192,
   "metadata": {},
   "outputs": [
    {
     "name": "stdout",
     "output_type": "stream",
     "text": [
      "MAE: 2.7146606036695338\n",
      "MSE: 30.310143158932974\n",
      "RMSE: 5.505464844945699\n"
     ]
    }
   ],
   "source": [
    "print('MAE:', metrics.mean_absolute_error(y_test,PRED))\n",
    "print('MSE:', metrics.mean_squared_error(y_test,PRED))\n",
    "print('RMSE:', np.sqrt(metrics.mean_squared_error(y_test,PRED)))"
   ]
  },
  {
   "cell_type": "code",
   "execution_count": 193,
   "metadata": {},
   "outputs": [
    {
     "data": {
      "text/html": [
       "<div>\n",
       "<style scoped>\n",
       "    .dataframe tbody tr th:only-of-type {\n",
       "        vertical-align: middle;\n",
       "    }\n",
       "\n",
       "    .dataframe tbody tr th {\n",
       "        vertical-align: top;\n",
       "    }\n",
       "\n",
       "    .dataframe thead th {\n",
       "        text-align: right;\n",
       "    }\n",
       "</style>\n",
       "<table border=\"1\" class=\"dataframe\">\n",
       "  <thead>\n",
       "    <tr style=\"text-align: right;\">\n",
       "      <th></th>\n",
       "      <th>Actual</th>\n",
       "      <th>Predicted</th>\n",
       "    </tr>\n",
       "  </thead>\n",
       "  <tbody>\n",
       "    <tr>\n",
       "      <th>982497</th>\n",
       "      <td>8.775610</td>\n",
       "      <td>8.126728</td>\n",
       "    </tr>\n",
       "    <tr>\n",
       "      <th>719065</th>\n",
       "      <td>3.685232</td>\n",
       "      <td>6.107076</td>\n",
       "    </tr>\n",
       "    <tr>\n",
       "      <th>145542</th>\n",
       "      <td>11.556863</td>\n",
       "      <td>12.142007</td>\n",
       "    </tr>\n",
       "    <tr>\n",
       "      <th>252177</th>\n",
       "      <td>19.361757</td>\n",
       "      <td>19.215535</td>\n",
       "    </tr>\n",
       "    <tr>\n",
       "      <th>479489</th>\n",
       "      <td>0.000000</td>\n",
       "      <td>0.853359</td>\n",
       "    </tr>\n",
       "    <tr>\n",
       "      <th>842412</th>\n",
       "      <td>4.251752</td>\n",
       "      <td>2.723404</td>\n",
       "    </tr>\n",
       "    <tr>\n",
       "      <th>73679</th>\n",
       "      <td>8.067647</td>\n",
       "      <td>8.328773</td>\n",
       "    </tr>\n",
       "    <tr>\n",
       "      <th>1006795</th>\n",
       "      <td>7.411417</td>\n",
       "      <td>7.741847</td>\n",
       "    </tr>\n",
       "    <tr>\n",
       "      <th>191879</th>\n",
       "      <td>25.107143</td>\n",
       "      <td>24.329406</td>\n",
       "    </tr>\n",
       "    <tr>\n",
       "      <th>641675</th>\n",
       "      <td>10.659051</td>\n",
       "      <td>11.544136</td>\n",
       "    </tr>\n",
       "    <tr>\n",
       "      <th>211430</th>\n",
       "      <td>0.000000</td>\n",
       "      <td>1.412219</td>\n",
       "    </tr>\n",
       "    <tr>\n",
       "      <th>191734</th>\n",
       "      <td>0.000000</td>\n",
       "      <td>11.557990</td>\n",
       "    </tr>\n",
       "    <tr>\n",
       "      <th>246207</th>\n",
       "      <td>13.653989</td>\n",
       "      <td>13.363815</td>\n",
       "    </tr>\n",
       "    <tr>\n",
       "      <th>247074</th>\n",
       "      <td>2.002620</td>\n",
       "      <td>4.605631</td>\n",
       "    </tr>\n",
       "    <tr>\n",
       "      <th>502686</th>\n",
       "      <td>5.412508</td>\n",
       "      <td>8.101642</td>\n",
       "    </tr>\n",
       "    <tr>\n",
       "      <th>469838</th>\n",
       "      <td>0.000000</td>\n",
       "      <td>-0.018264</td>\n",
       "    </tr>\n",
       "    <tr>\n",
       "      <th>380174</th>\n",
       "      <td>0.000000</td>\n",
       "      <td>-3.815629</td>\n",
       "    </tr>\n",
       "    <tr>\n",
       "      <th>118712</th>\n",
       "      <td>0.000000</td>\n",
       "      <td>-2.201711</td>\n",
       "    </tr>\n",
       "    <tr>\n",
       "      <th>615424</th>\n",
       "      <td>38.980583</td>\n",
       "      <td>35.786585</td>\n",
       "    </tr>\n",
       "    <tr>\n",
       "      <th>32086</th>\n",
       "      <td>11.530075</td>\n",
       "      <td>16.074775</td>\n",
       "    </tr>\n",
       "    <tr>\n",
       "      <th>879181</th>\n",
       "      <td>20.996350</td>\n",
       "      <td>19.856413</td>\n",
       "    </tr>\n",
       "    <tr>\n",
       "      <th>445300</th>\n",
       "      <td>0.000000</td>\n",
       "      <td>0.464795</td>\n",
       "    </tr>\n",
       "    <tr>\n",
       "      <th>292078</th>\n",
       "      <td>5.340488</td>\n",
       "      <td>5.986543</td>\n",
       "    </tr>\n",
       "    <tr>\n",
       "      <th>702793</th>\n",
       "      <td>13.502058</td>\n",
       "      <td>14.002259</td>\n",
       "    </tr>\n",
       "    <tr>\n",
       "      <th>495207</th>\n",
       "      <td>7.735952</td>\n",
       "      <td>6.666850</td>\n",
       "    </tr>\n",
       "    <tr>\n",
       "      <th>140290</th>\n",
       "      <td>0.000000</td>\n",
       "      <td>-4.271865</td>\n",
       "    </tr>\n",
       "    <tr>\n",
       "      <th>97976</th>\n",
       "      <td>7.567725</td>\n",
       "      <td>7.369747</td>\n",
       "    </tr>\n",
       "    <tr>\n",
       "      <th>109040</th>\n",
       "      <td>5.886213</td>\n",
       "      <td>8.924912</td>\n",
       "    </tr>\n",
       "    <tr>\n",
       "      <th>398478</th>\n",
       "      <td>3.538151</td>\n",
       "      <td>5.860848</td>\n",
       "    </tr>\n",
       "    <tr>\n",
       "      <th>796948</th>\n",
       "      <td>0.000000</td>\n",
       "      <td>0.103565</td>\n",
       "    </tr>\n",
       "  </tbody>\n",
       "</table>\n",
       "</div>"
      ],
      "text/plain": [
       "            Actual  Predicted\n",
       "982497    8.775610   8.126728\n",
       "719065    3.685232   6.107076\n",
       "145542   11.556863  12.142007\n",
       "252177   19.361757  19.215535\n",
       "479489    0.000000   0.853359\n",
       "842412    4.251752   2.723404\n",
       "73679     8.067647   8.328773\n",
       "1006795   7.411417   7.741847\n",
       "191879   25.107143  24.329406\n",
       "641675   10.659051  11.544136\n",
       "211430    0.000000   1.412219\n",
       "191734    0.000000  11.557990\n",
       "246207   13.653989  13.363815\n",
       "247074    2.002620   4.605631\n",
       "502686    5.412508   8.101642\n",
       "469838    0.000000  -0.018264\n",
       "380174    0.000000  -3.815629\n",
       "118712    0.000000  -2.201711\n",
       "615424   38.980583  35.786585\n",
       "32086    11.530075  16.074775\n",
       "879181   20.996350  19.856413\n",
       "445300    0.000000   0.464795\n",
       "292078    5.340488   5.986543\n",
       "702793   13.502058  14.002259\n",
       "495207    7.735952   6.666850\n",
       "140290    0.000000  -4.271865\n",
       "97976     7.567725   7.369747\n",
       "109040    5.886213   8.924912\n",
       "398478    3.538151   5.860848\n",
       "796948    0.000000   0.103565"
      ]
     },
     "execution_count": 193,
     "metadata": {},
     "output_type": "execute_result"
    }
   ],
   "source": [
    "qq=pd.DataFrame({'Actual':y_test,'Predicted':PRED})\n",
    "qq.head(30)"
   ]
  },
  {
   "cell_type": "code",
   "execution_count": 194,
   "metadata": {},
   "outputs": [
    {
     "name": "stdout",
     "output_type": "stream",
     "text": [
      "       product type  Promotion applied  Generic Holiday  DayOfWeek  \\\n",
      "76435            84                  0                0          1   \n",
      "\n",
      "       No_of_sales  \n",
      "76435    11.204301  \n"
     ]
    }
   ],
   "source": [
    "print(merged.iloc[[76435]])"
   ]
  },
  {
   "cell_type": "code",
   "execution_count": 199,
   "metadata": {},
   "outputs": [
    {
     "name": "stdout",
     "output_type": "stream",
     "text": [
      "        product type  Promotion applied  Generic Holiday  DayOfWeek  \\\n",
      "719065           790                  0                0          2   \n",
      "\n",
      "        No_of_sales  \n",
      "719065     3.685232  \n"
     ]
    }
   ],
   "source": [
    "print(merged.iloc[[719065]])"
   ]
  },
  {
   "cell_type": "code",
   "execution_count": null,
   "metadata": {},
   "outputs": [],
   "source": []
  },
  {
   "cell_type": "code",
   "execution_count": null,
   "metadata": {},
   "outputs": [],
   "source": []
  },
  {
   "cell_type": "code",
   "execution_count": 195,
   "metadata": {},
   "outputs": [],
   "source": [
    "def predict(PRODUCT_TYPE,PROMOTION_APPLIED,GENERIC_HOLIDAY,DAY_OF_WEEK):\n",
    "    \n",
    "    x= np.zeros(len(X.columns))\n",
    "    x[0] = PRODUCT_TYPE\n",
    "    x[1] = PROMOTION_APPLIED\n",
    "    x[2] = GENERIC_HOLIDAY\n",
    "    x[3] = DAY_OF_WEEK\n",
    "   \n",
    "    return gradient_boosting_regressor_model.predict([x])[0]"
   ]
  },
  {
   "cell_type": "code",
   "execution_count": 196,
   "metadata": {},
   "outputs": [
    {
     "data": {
      "text/plain": [
       "14.280672524328137"
      ]
     },
     "execution_count": 196,
     "metadata": {},
     "output_type": "execute_result"
    }
   ],
   "source": [
    "predict(84,0,0,1)"
   ]
  },
  {
   "cell_type": "code",
   "execution_count": 197,
   "metadata": {},
   "outputs": [
    {
     "data": {
      "text/plain": [
       "5.393064442809583"
      ]
     },
     "execution_count": 197,
     "metadata": {},
     "output_type": "execute_result"
    }
   ],
   "source": [
    "predict(120,1,0,4)"
   ]
  },
  {
   "cell_type": "code",
   "execution_count": 198,
   "metadata": {},
   "outputs": [
    {
     "data": {
      "text/plain": [
       "22.756704794935484"
      ]
     },
     "execution_count": 198,
     "metadata": {},
     "output_type": "execute_result"
    }
   ],
   "source": [
    "predict(100,0,0,4)"
   ]
  },
  {
   "cell_type": "code",
   "execution_count": 200,
   "metadata": {},
   "outputs": [
    {
     "data": {
      "text/plain": [
       "6.107075986515731"
      ]
     },
     "execution_count": 200,
     "metadata": {},
     "output_type": "execute_result"
    }
   ],
   "source": [
    "predict(790,0,0,2)"
   ]
  },
  {
   "cell_type": "code",
   "execution_count": 201,
   "metadata": {},
   "outputs": [],
   "source": [
    "import pickle\n",
    "with open('BTACH_PICLKE','wb') as f:\n",
    "    pickle.dump(gradient_boosting_regressor_model,f)"
   ]
  },
  {
   "cell_type": "code",
   "execution_count": null,
   "metadata": {},
   "outputs": [],
   "source": []
  }
 ],
 "metadata": {
  "kernelspec": {
   "display_name": "Python 3",
   "language": "python",
   "name": "python3"
  },
  "language_info": {
   "codemirror_mode": {
    "name": "ipython",
    "version": 3
   },
   "file_extension": ".py",
   "mimetype": "text/x-python",
   "name": "python",
   "nbconvert_exporter": "python",
   "pygments_lexer": "ipython3",
   "version": "3.7.4"
  }
 },
 "nbformat": 4,
 "nbformat_minor": 2
}
